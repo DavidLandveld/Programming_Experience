{
 "cells": [
  {
   "cell_type": "markdown",
   "metadata": {},
   "source": [
    "# Algorithmic Trading: Take-home Exam\n",
    "\n",
    "Name: David Landveld\n",
    "\n",
    "Student ID: 2742120\n",
    "\n",
    "\n",
    "\n",
    "\n"
   ]
  },
  {
   "cell_type": "code",
   "execution_count": 1,
   "metadata": {},
   "outputs": [],
   "source": [
    "#Imports\n",
    "import numpy as np\n",
    "import pandas as pd\n",
    "import matplotlib.pyplot as plt\n",
    "import statsmodels\n",
    "from statsmodels.api import OLS, add_constant\n",
    "from statsmodels.tsa.stattools import adfuller\n",
    "from cointegration_analysis import estimate_long_run_short_run_relationships, engle_granger_two_step_cointegration_test\n",
    "import datetime as datetime\n",
    "from scipy import stats\n"
   ]
  },
  {
   "cell_type": "code",
   "execution_count": 2,
   "metadata": {},
   "outputs": [
    {
     "data": {
      "text/html": [
       "<div>\n",
       "<style scoped>\n",
       "    .dataframe tbody tr th:only-of-type {\n",
       "        vertical-align: middle;\n",
       "    }\n",
       "\n",
       "    .dataframe tbody tr th {\n",
       "        vertical-align: top;\n",
       "    }\n",
       "\n",
       "    .dataframe thead th {\n",
       "        text-align: right;\n",
       "    }\n",
       "</style>\n",
       "<table border=\"1\" class=\"dataframe\">\n",
       "  <thead>\n",
       "    <tr style=\"text-align: right;\">\n",
       "      <th></th>\n",
       "      <th>TKWY</th>\n",
       "      <th>ADYEN</th>\n",
       "      <th>KPN</th>\n",
       "    </tr>\n",
       "    <tr>\n",
       "      <th>fraction_of_year</th>\n",
       "      <th></th>\n",
       "      <th></th>\n",
       "      <th></th>\n",
       "    </tr>\n",
       "  </thead>\n",
       "  <tbody>\n",
       "    <tr>\n",
       "      <th>1.268392e-07</th>\n",
       "      <td>29.993523</td>\n",
       "      <td>74.865590</td>\n",
       "      <td>60.104009</td>\n",
       "    </tr>\n",
       "    <tr>\n",
       "      <th>1.902588e-07</th>\n",
       "      <td>29.978235</td>\n",
       "      <td>74.914692</td>\n",
       "      <td>60.093024</td>\n",
       "    </tr>\n",
       "    <tr>\n",
       "      <th>2.536783e-07</th>\n",
       "      <td>29.985092</td>\n",
       "      <td>74.938921</td>\n",
       "      <td>60.083930</td>\n",
       "    </tr>\n",
       "    <tr>\n",
       "      <th>3.170979e-07</th>\n",
       "      <td>29.956645</td>\n",
       "      <td>75.008993</td>\n",
       "      <td>60.093325</td>\n",
       "    </tr>\n",
       "    <tr>\n",
       "      <th>3.805175e-07</th>\n",
       "      <td>29.995444</td>\n",
       "      <td>75.054447</td>\n",
       "      <td>60.102438</td>\n",
       "    </tr>\n",
       "  </tbody>\n",
       "</table>\n",
       "</div>"
      ],
      "text/plain": [
       "                       TKWY      ADYEN        KPN\n",
       "fraction_of_year                                 \n",
       "1.268392e-07      29.993523  74.865590  60.104009\n",
       "1.902588e-07      29.978235  74.914692  60.093024\n",
       "2.536783e-07      29.985092  74.938921  60.083930\n",
       "3.170979e-07      29.956645  75.008993  60.093325\n",
       "3.805175e-07      29.995444  75.054447  60.102438"
      ]
     },
     "execution_count": 2,
     "metadata": {},
     "output_type": "execute_result"
    }
   ],
   "source": [
    "data = pd.read_csv('data.csv', index_col=0)\n",
    "data.head()"
   ]
  },
  {
   "cell_type": "markdown",
   "metadata": {
    "tags": []
   },
   "source": [
    "## Question 1"
   ]
  },
  {
   "cell_type": "code",
   "execution_count": 3,
   "metadata": {},
   "outputs": [
    {
     "data": {
      "text/plain": [
       "<matplotlib.legend.Legend at 0x7f6642635d30>"
      ]
     },
     "execution_count": 3,
     "metadata": {},
     "output_type": "execute_result"
    },
    {
     "data": {
      "image/png": "[encoded data removed]",
      "text/plain": [
       "<Figure size 432x288 with 1 Axes>"
      ]
     },
     "metadata": {
      "needs_background": "light"
     },
     "output_type": "display_data"
    }
   ],
   "source": [
    "#Step one, transforming the data to log prices. \n",
    "logdata = np.log(data)\n",
    "\n",
    "#plot the data\n",
    "plt.plot(logdata.TKWY, label=\"TKWY\")\n",
    "plt.plot(logdata.ADYEN, label=\"ADYEN\")\n",
    "plt.plot(logdata.KPN, label=\"KPN\")\n",
    "plt.legend()"
   ]
  },
  {
   "cell_type": "markdown",
   "metadata": {},
   "source": [
    "From the graphs it becomes very clear that ADYEN and KPN are cointegrated with each other, but need to test both ways to see which relationship is strongest to determine which is X and which is Y. "
   ]
  },
  {
   "cell_type": "code",
   "execution_count": 4,
   "metadata": {},
   "outputs": [
    {
     "name": "stdout",
     "output_type": "stream",
     "text": [
      "(-174.14384272804398, 0.0)\n",
      "(-174.1346423575904, 0.0)\n"
     ]
    }
   ],
   "source": [
    "#The stock that is cointegrated with KPN is definetly ADYEN, Lets put this to the test. \n",
    "test_X = logdata.KPN\n",
    "test_Y = logdata.ADYEN\n",
    "\n",
    "coingtegration_test1 = engle_granger_two_step_cointegration_test(test_Y,test_X)\n",
    "cointegration_test2 = engle_granger_two_step_cointegration_test(test_X, test_Y)\n",
    "\n",
    "print(coingtegration_test1)\n",
    "print(cointegration_test2) \n",
    "\n",
    "\n"
   ]
  },
  {
   "cell_type": "markdown",
   "metadata": {},
   "source": [
    "I see that the first cointegration test with Y = ADYEN and X = KPN is just a little bit more negative, implying that the strongest cointegration relationship is attained when using this Y and X combination. So we can denote X and Y with certainty now."
   ]
  },
  {
   "cell_type": "code",
   "execution_count": 5,
   "metadata": {},
   "outputs": [
    {
     "data": {
      "text/html": [
       "<div>\n",
       "<style scoped>\n",
       "    .dataframe tbody tr th:only-of-type {\n",
       "        vertical-align: middle;\n",
       "    }\n",
       "\n",
       "    .dataframe tbody tr th {\n",
       "        vertical-align: top;\n",
       "    }\n",
       "\n",
       "    .dataframe thead th {\n",
       "        text-align: right;\n",
       "    }\n",
       "</style>\n",
       "<table border=\"1\" class=\"dataframe\">\n",
       "  <thead>\n",
       "    <tr style=\"text-align: right;\">\n",
       "      <th></th>\n",
       "      <th>TKWY</th>\n",
       "      <th>ADYEN</th>\n",
       "      <th>KPN</th>\n",
       "    </tr>\n",
       "    <tr>\n",
       "      <th>fraction_of_year</th>\n",
       "      <th></th>\n",
       "      <th></th>\n",
       "      <th></th>\n",
       "    </tr>\n",
       "  </thead>\n",
       "  <tbody>\n",
       "    <tr>\n",
       "      <th>1.268392e-07</th>\n",
       "      <td>3.400981</td>\n",
       "      <td>4.315694</td>\n",
       "      <td>4.096077</td>\n",
       "    </tr>\n",
       "  </tbody>\n",
       "</table>\n",
       "</div>"
      ],
      "text/plain": [
       "                      TKWY     ADYEN       KPN\n",
       "fraction_of_year                              \n",
       "1.268392e-07      3.400981  4.315694  4.096077"
      ]
     },
     "execution_count": 5,
     "metadata": {},
     "output_type": "execute_result"
    }
   ],
   "source": [
    "#Denote the two stock prices by X and Y. \n",
    "X= logdata.KPN\n",
    "Y = logdata.ADYEN\n",
    "\n",
    "logdata.head(1)"
   ]
  },
  {
   "cell_type": "markdown",
   "metadata": {},
   "source": [
    "Now I want to know the correct ratio to trade these two stocks."
   ]
  },
  {
   "cell_type": "code",
   "execution_count": 6,
   "metadata": {},
   "outputs": [
    {
     "name": "stdout",
     "output_type": "stream",
     "text": [
      "1.3332954468900216\n",
      "0.7500213117299321\n"
     ]
    }
   ],
   "source": [
    "#In order for me to find the correct ratio I need to know Gamma. \n",
    "estimator = estimate_long_run_short_run_relationships(Y,X)\n",
    "c = estimator[0]\n",
    "gamma = estimator[1]\n",
    "alpha = estimator[2]\n",
    "z = estimator[3]\n",
    "print(gamma)\n",
    "print(1/gamma)"
   ]
  },
  {
   "cell_type": "markdown",
   "metadata": {},
   "source": [
    "Since I used ADYEN as Y and KPN as X, if I take a positon of 1 lot in ln(ADYEN) I will need to take a positon of -1.333 lots in ln(KPN). \n",
    "But if I have a postion of 1 log(KPN) I would need a positon of -0.75 log(ADYEN).\n",
    "I assume that using ADYEN as Y also means that I will always first open a position in ADYEN and then take the counterposition in KPN.  \n"
   ]
  },
  {
   "cell_type": "markdown",
   "metadata": {},
   "source": [
    "From this moment onwards I will be implementing the cointegration strategy. I first followed the tasks in the question and then got to do some exploring myself."
   ]
  },
  {
   "cell_type": "code",
   "execution_count": 7,
   "metadata": {},
   "outputs": [
    {
     "name": "stderr",
     "output_type": "stream",
     "text": [
      "2022-03-22 22:10:10,945 [asyncio   ] [MainThread  ] Using selector: EpollSelector\n"
     ]
    }
   ],
   "source": [
    "#Connect to the exchange\n",
    "from optibook.synchronous_client import Exchange\n",
    "\n",
    "import time\n",
    "import logging\n",
    "logger = logging.getLogger('client')\n",
    "logger.setLevel('ERROR')\n",
    "\n",
    "instrument_id = ['KPN', 'ADYEN', 'TKWY']\n",
    "\n",
    "e = Exchange()\n",
    "a = e.connect()"
   ]
  },
  {
   "cell_type": "code",
   "execution_count": 8,
   "metadata": {},
   "outputs": [
    {
     "name": "stdout",
     "output_type": "stream",
     "text": [
      "if I trade one lot Y I currently need 1.5119 Lot X.\n"
     ]
    }
   ],
   "source": [
    "#I used a vwap price calculator as I assume that reflects the price better than just using the midprice. \n",
    "#After that I determine the lot ratio so that I know with what volume to trade with. \n",
    "def vwap_calculator(stock) -> float:\n",
    "    book = e.get_last_price_book(stock)\n",
    "    if not book.bids:\n",
    "        print('No bids at all for instrument.')\n",
    "        price_bid = 0\n",
    "        volume_bid = 0\n",
    "    else:\n",
    "        best_bid = book.bids[0]\n",
    "        price_bid = best_bid.price\n",
    "        volume_bid = best_bid.volume\n",
    "    if not book.asks:\n",
    "        print('No asks at all for instrument.')\n",
    "        price_ask = 0\n",
    "        volume_ask = 0\n",
    "    else:\n",
    "        best_ask = book.asks[0]\n",
    "        price_ask = best_ask.price\n",
    "        volume_ask = best_ask.volume    \n",
    "    return ((volume_bid/(volume_bid+volume_ask) * price_bid) + (volume_ask/(volume_bid+volume_ask) * price_ask))\n",
    "     \n",
    "lotsizeXratio = 1*gamma*vwap_calculator('ADYEN')/vwap_calculator('KPN')\n",
    "\n",
    "print(f'if I trade one lot Y I currently need '+\"{:.4f}\".format(lotsizeXratio)+' Lot X.')"
   ]
  },
  {
   "cell_type": "markdown",
   "metadata": {},
   "source": [
    "Before implementing the strategy I determined that I'd use the z-score as a trading indicator with standard deviatons from the mean as an indictor to open a position, and when the z-score gets back to the mean I close the position again. I needed to confirm that the formula used in the second graph would give me the exact same outcome as the plot for the z-scores. Because then I could use that formula to determine the current z-score of the live stocks."
   ]
  },
  {
   "cell_type": "code",
   "execution_count": 9,
   "metadata": {},
   "outputs": [
    {
     "data": {
      "text/plain": [
       "[<matplotlib.lines.Line2D at 0x7f66424342e8>]"
      ]
     },
     "execution_count": 9,
     "metadata": {},
     "output_type": "execute_result"
    },
    {
     "data": {
      "image/png": "[encoded data removed]",
      "text/plain": [
       "<Figure size 432x288 with 1 Axes>"
      ]
     },
     "metadata": {
      "needs_background": "light"
     },
     "output_type": "display_data"
    }
   ],
   "source": [
    "plt.plot(z.iloc[0:200])"
   ]
  },
  {
   "cell_type": "code",
   "execution_count": 10,
   "metadata": {},
   "outputs": [
    {
     "data": {
      "text/plain": [
       "[<matplotlib.lines.Line2D at 0x7f66423af3c8>]"
      ]
     },
     "execution_count": 10,
     "metadata": {},
     "output_type": "execute_result"
    },
    {
     "data": {
      "image/png": "[encoded data removed]",
      "text/plain": [
       "<Figure size 432x288 with 1 Axes>"
      ]
     },
     "metadata": {
      "needs_background": "light"
     },
     "output_type": "display_data"
    }
   ],
   "source": [
    "#y_t = c + gamma * x_t + z_t\n",
    "#zt = yt - c - gamma*xt\n",
    "plt.plot(logdata.ADYEN.iloc[0:200]-gamma*logdata.KPN.iloc[0:200] - c)"
   ]
  },
  {
   "cell_type": "markdown",
   "metadata": {},
   "source": [
    "Below I tested out if I could get all the variables for the z-score calculations and then I put them into my functions as well. "
   ]
  },
  {
   "cell_type": "code",
   "execution_count": 11,
   "metadata": {},
   "outputs": [],
   "source": [
    "#get mean of the spread\n",
    "    mean_zspread = np.mean(logdata.ADYEN-gamma*logdata.KPN - c)\n",
    "\n",
    "    #get standard deviations on spread\n",
    "    std_zspread = np.std(logdata.ADYEN-gamma*logdata.KPN - c)\n",
    "\n",
    "    # print (mean_zspread, std_zspread)\n",
    "    Upper_boundentry = mean_zspread+3*std_zspread\n",
    "    Lower_boundentry =  mean_zspread-3*std_zspread"
   ]
  },
  {
   "cell_type": "markdown",
   "metadata": {},
   "source": [
    "### trading\n",
    "\n",
    "I created the following function to be able to trade on cointegration. I made sure to close all the outstanding orders, get the current z-score and my positions for information on tradability. \n",
    "\n",
    "I determined that the volume could be calculate by looking at how much volume was in the orderbook, then optimizing the volume so that both ADYEN and KPN orders could go trough against that volume. \n",
    "\n",
    "After the first tests I saw that the function 'opencointegrationtrade' was not profitable. I determined to widen the entry levels, this still not ended up profitable and in the end I discarded the first function and replaced it by the second one below it. the difference is that the second one uses a higher upper and lower lower limit for entry signals. This resulted in less frequently trading, but unfortunately the strategy remained unprofitable.\n",
    "\n",
    "I made sure to use enough comments to explain the steps I took. "
   ]
  },
  {
   "cell_type": "code",
   "execution_count": 12,
   "metadata": {},
   "outputs": [],
   "source": [
    "def opencointegrationtrade():\n",
    "    #So it becomes clear that we can use the spread as a trading signal. We need the average spread of the log prices and then two or one \n",
    "    #standard deviation from the mean as trading signal. \n",
    "    # print (mean_zspread, std_zspread)\n",
    "    Upper_boundentry = mean_zspread+std_zspread\n",
    "    Lower_boundentry =  mean_zspread-std_zspread\n",
    "    #get zspread of current prices. \n",
    "    current_zspread = np.log(vwap_calculator('ADYEN'))-gamma*np.log(vwap_calculator('KPN'))-c\n",
    "    #get postion information\n",
    "    positions = e.get_positions()\n",
    "    #set outstanding orders to 0\n",
    "    for i in instrument_id:\n",
    "        outstanding = e.get_outstanding_orders(i)\n",
    "        for o in outstanding.values():\n",
    "            result = e.delete_order(i, order_id=o.order_id)\n",
    "            print(f\"Deleted order id {o.order_id}: {result}\")\n",
    "\n",
    "    #If there is a deviation in the long run equation. So trade when z-score is above given level. lets say one time sigma of mean. \n",
    "    #determine which one to long and which one to short. if the spread is positive than adyen is relatively high and\n",
    "    #kpn relatively low, so short adyen en long kpn with respective ratio.\n",
    "    if current_zspread <= Lower_boundentry:\n",
    "        #fetch most updated prices & volumes, bids of adyen because want to buy adyne, asks of kpn because want to short kpn. \n",
    "        bookY = e.get_last_price_book(\"ADYEN\")\n",
    "        if bookY== None:\n",
    "            print('No bids at all for instrument.')\n",
    "        else:\n",
    "            best_bid = bookY.bids[0]\n",
    "            price_bid = best_bid.price\n",
    "            volume_bid = best_bid.volume\n",
    "        bookX = e.get_last_price_book(\"KPN\")\n",
    "        if bookX==None:\n",
    "            print('No asks at all for instrument.')\n",
    "        else:\n",
    "            best_ask = bookX.asks[0]\n",
    "            price_ask = best_ask.price\n",
    "            volume_ask = best_ask.volume \n",
    "\n",
    "        ratio =  lotsizeXratio\n",
    "        #figure out volumes, I assume that the ration is always positive. \n",
    "        if volume_bid<=volume_ask:\n",
    "            base_volumeY = volume_bid\n",
    "            ratio_volumeX = int(round(volume_bid*ratio,0))\n",
    "            if ratio_volumeX <= volume_ask:\n",
    "                #check if trading breaks rules\n",
    "                if positions[\"ADYEN\"] + 1*int(base_volumeY) <200 and positions[\"KPN\"] + -1*ratio_volumeX >-200 and base_volumeY<400 and ratio_volumeX<400:\n",
    "                    #execute orders  \n",
    "                    #short adyen ### Can go +1 on and -1 on ask to make sure you get filled. This may cause the profitability to decrease. \n",
    "                    #To solve this I should have calcultated the potential profit even with a bigger spread and if it is negative, do not trade.\n",
    "                    e.insert_order(\"ADYEN\", price=price_bid+0.1, volume=base_volumeY, side='bid', order_type='ioc') \n",
    "                    #Buy kpn      \n",
    "                    e.insert_order(\"KPN\", price=price_ask-0.1, volume=ratio_volumeX, side='ask', order_type='ioc')\n",
    "            else:\n",
    "                base_volumeY = int(round(volume_ask/ratio,0))\n",
    "                ratio_volumeX = volume_ask\n",
    "                #check if trading breaks rules\n",
    "                if positions[\"ADYEN\"] + 1*int(base_volumeY) <200 and positions[\"KPN\"] + -1*ratio_volumeX >-200 and base_volumeY<400 and ratio_volumeX<400:\n",
    "                    #execute\n",
    "                    #short adyen\n",
    "                    e.insert_order(\"ADYEN\", price=price_bid+0.1, volume=base_volumeY, side='bid', order_type='ioc') \n",
    "                    #Buy kpn      \n",
    "                    e.insert_order(\"KPN\", price=price_ask-0.1, volume=ratio_volumeX, side='ask', order_type='ioc')\n",
    "        else: \n",
    "            base_volumeY = int(round(volume_ask/ratio,0))\n",
    "            ratio_volumeX = volume_ask\n",
    "            #check if trading breaks rules\n",
    "            if positions[\"ADYEN\"] + 1*int(base_volumeY) <200 and positions[\"KPN\"] + -1*ratio_volumeX >-200 and base_volumeY<400 and ratio_volumeX<400:\n",
    "                #execute orders  \n",
    "                #short adyen\n",
    "                e.insert_order(\"ADYEN\", price=price_bid+0.1, volume=base_volumeY, side='bid', order_type='ioc') \n",
    "                #Buy kpn      \n",
    "                e.insert_order(\"KPN\", price=price_ask-0.1, volume=ratio_volumeX, side='ask', order_type='ioc')\n",
    "\n",
    "\n",
    "        #calculate positon ratios.\n",
    "\n",
    "        #short adyen, aim for the bid order\n",
    "\n",
    "        #long kpn, aim for the ask orders.\n",
    "\n",
    "    elif current_zspread>= Upper_boundentry:\n",
    "         #fetch most updated prices & volumes, asks of adyen because now we need to go short, bids of kpn because we need to buy it. \n",
    "        bookX = e.get_last_price_book(\"KPN\")\n",
    "        if bookX == None:\n",
    "            print('No bids at all for instrument.')\n",
    "        else:\n",
    "            best_bid = bookX.bids[0]\n",
    "            price_bid = best_bid.price\n",
    "            volume_bid = best_bid.volume\n",
    "        bookY = e.get_last_price_book(\"ADYEN\")\n",
    "        if bookY == None:\n",
    "            print('No asks at all for instrument.')\n",
    "        else:\n",
    "            best_ask = bookY.asks[0]\n",
    "            price_ask = best_ask.price\n",
    "            volume_ask = best_ask.volume \n",
    "        ratio =  lotsizeXratio\n",
    "        #figure out volumes\n",
    "        if volume_ask<=volume_bid:\n",
    "            base_volumeY = volume_ask\n",
    "            ratio_volumeX = int(round(volume_ask*ratio,0))\n",
    "            if ratio_volumeX <= volume_bid:\n",
    "                #check if trading breaks rules\n",
    "                if positions[\"ADYEN\"] + -1*int(base_volumeY) >-200 and positions[\"KPN\"] + ratio_volumeX <200 and base_volumeY<400 and ratio_volumeX<400:\n",
    "                    #execute orders  \n",
    "                    #short adyen ### Can go +1 on and -1 on ask to make sure you get filled. This may cause the profitability to decrease. \n",
    "                    #To solve this I should have calcultated the potential profit even with a bigger spread and if it is negative, do not trade.\n",
    "                    e.insert_order(\"ADYEN\", price=price_ask-0.1, volume=base_volumeY, side='ask', order_type='ioc') \n",
    "                    #Buy kpn      \n",
    "                    e.insert_order(\"KPN\", price=price_bid+0.1, volume=ratio_volumeX, side='bid', order_type='ioc')\n",
    "            else:\n",
    "                base_volumeY = int(round(volume_bid/ratio,0))\n",
    "                ratio_volumeX = volume_bid\n",
    "                #check if trading breaks rules\n",
    "                if positions[\"ADYEN\"] + -1*int(base_volumeY) >-200 and positions[\"KPN\"] + ratio_volumeX <200 and base_volumeY<400 and ratio_volumeX<400:\n",
    "                    #execute\n",
    "                    #short adyen\n",
    "                    e.insert_order(\"ADYEN\", price=price_ask-0.1, volume=base_volumeY, side='ask', order_type='ioc') \n",
    "                    #Buy kpn      \n",
    "                    e.insert_order(\"KPN\", price=price_bid+0.1, volume=ratio_volumeX, side='bid', order_type='ioc')\n",
    "        else: \n",
    "            base_volumeY = int(round(volume_ask/ratio,0))\n",
    "            ratio_volumeX = volume_ask\n",
    "            #check if trading breaks rules\n",
    "            if positions[\"ADYEN\"] + -1*int(base_volumeY) >-200 and positions[\"KPN\"] + ratio_volumeX <200 and base_volumeY<400 and ratio_volumeX<400:\n",
    "                #execute orders  \n",
    "                #short adyen\n",
    "                e.insert_order(\"ADYEN\", price=price_ask-0.1, volume=base_volumeY, side='ask', order_type='ioc') \n",
    "                #Buy kpn      \n",
    "                e.insert_order(\"KPN\", price=price_bid+0.1, volume=ratio_volumeX, side='bid', order_type='ioc')\n",
    "\n",
    "\n",
    "\n",
    "            #fetch most updated prices\n",
    "\n",
    "            #calculate positon ratios.\n",
    "\n",
    "            #long adyen\n",
    "\n",
    "            #short kpn.\n",
    "\n",
    "    #Get most recent prices.\n",
    "\n",
    "    #Trade on the most recent prices with the right directions. \n",
    "\n",
    "    # When trading on Optibook, you are not allowed to cross the following predefined limits:\n",
    "    # - Total position (long or short) per instrument may not be more than 200\n",
    "    # - Total outstanding (pending) orders may not be more than 400 lots per instrument\n",
    "    # - The maximum number of updates (inserts/deletes/amends) which are sent to the market may not be \n",
    "    # more than 25 updates per second"
   ]
  },
  {
   "cell_type": "code",
   "execution_count": 13,
   "metadata": {},
   "outputs": [],
   "source": [
    "def twosigmaopencointegrationtrade():\n",
    "    #So it becomes clear that we can use the spread as a trading signal. We need the average spread of the log prices and then two or one \n",
    "    #standard deviation from the mean as trading signal. \n",
    "\n",
    "    #get mean of the spread\n",
    "    mean_zspread = np.mean(logdata.ADYEN-gamma*logdata.KPN - c)\n",
    "\n",
    "    #get standard deviations on spread\n",
    "    std_zspread = np.std(logdata.ADYEN-gamma*logdata.KPN - c)\n",
    "\n",
    "    # print (mean_zspread, std_zspread)\n",
    "    Upper_boundentry = mean_zspread+3*std_zspread\n",
    "    Lower_boundentry =  mean_zspread-3*std_zspread\n",
    "    #get zspread of current prices. \n",
    "    current_zspread = np.log(vwap_calculator('ADYEN'))-gamma*np.log(vwap_calculator('KPN'))-c\n",
    "    #get postion information\n",
    "    positions = e.get_positions()\n",
    "    #set outstanding orders to 0\n",
    "    for i in instrument_id:\n",
    "        outstanding = e.get_outstanding_orders(i)\n",
    "        for o in outstanding.values():\n",
    "            result = e.delete_order(i, order_id=o.order_id)\n",
    "            print(f\"Deleted order id {o.order_id}: {result}\")\n",
    "\n",
    "    #If there is a deviation in the long run equation. So trade when z-score is above given level. lets say one time sigma of mean. \n",
    "    #determine which one to long and which one to short. if the spread is positive than adyen is relatively high and\n",
    "    #kpn relatively low, so short adyen en long kpn with respective ratio.\n",
    "    if current_zspread <= Lower_boundentry:\n",
    "        #fetch most updated prices & volumes, bids of adyen because want to buy adyne, asks of kpn because want to short kpn. \n",
    "        bookY = e.get_last_price_book(\"ADYEN\")\n",
    "        if bookY== None:\n",
    "            print('No bids at all for instrument.')\n",
    "        else:\n",
    "            best_bid = bookY.bids[0]\n",
    "            price_bid = best_bid.price\n",
    "            volume_bid = best_bid.volume\n",
    "        bookX = e.get_last_price_book(\"KPN\")\n",
    "        if bookX==None:\n",
    "            print('No asks at all for instrument.')\n",
    "        else:\n",
    "            best_ask = bookX.asks[0]\n",
    "            price_ask = best_ask.price\n",
    "            volume_ask = best_ask.volume \n",
    "\n",
    "        ratio =  lotsizeXratio\n",
    "        #figure out volumes, I assume that the ration is always positive. \n",
    "        if volume_bid<=volume_ask:\n",
    "            base_volumeY = volume_bid\n",
    "            ratio_volumeX = int(round(volume_bid*ratio,0))\n",
    "            if ratio_volumeX <= volume_ask:\n",
    "                #check if trading breaks rules\n",
    "                if positions[\"ADYEN\"] + 1*int(base_volumeY) <200 and positions[\"KPN\"] + -1*ratio_volumeX >-200 and base_volumeY<400 and ratio_volumeX<400:\n",
    "                    #execute orders  \n",
    "                    #short adyen ### Can go +1 on and -1 on ask to make sure you get filled. This may cause the profitability to decrease. \n",
    "                    #To solve this I should have calcultated the potential profit even with a bigger spread and if it is negative, do not trade.\n",
    "                    e.insert_order(\"ADYEN\", price=price_bid+1, volume=base_volumeY, side='bid', order_type='ioc') \n",
    "                    #Buy kpn      \n",
    "                    e.insert_order(\"KPN\", price=price_ask-1, volume=ratio_volumeX, side='ask', order_type='ioc')\n",
    "            else:\n",
    "                base_volumeY = int(round(volume_ask/ratio,0))\n",
    "                ratio_volumeX = volume_ask\n",
    "                #check if trading breaks rules\n",
    "                if positions[\"ADYEN\"] + 1*int(base_volumeY) <200 and positions[\"KPN\"] + -1*ratio_volumeX >-200 and base_volumeY<400 and ratio_volumeX<400:\n",
    "                    #execute\n",
    "                    #short adyen\n",
    "                    e.insert_order(\"ADYEN\", price=price_bid+1, volume=base_volumeY, side='bid', order_type='ioc') \n",
    "                    #Buy kpn      \n",
    "                    e.insert_order(\"KPN\", price=price_ask-1, volume=ratio_volumeX, side='ask', order_type='ioc')\n",
    "        else: \n",
    "            base_volumeY = int(round(volume_ask/ratio,0))\n",
    "            ratio_volumeX = volume_ask\n",
    "            #check if trading breaks rules\n",
    "            if positions[\"ADYEN\"] + 1*int(base_volumeY) <200 and positions[\"KPN\"] + -1*ratio_volumeX >-200 and base_volumeY<400 and ratio_volumeX<400:\n",
    "                #execute orders  \n",
    "                #short adyen\n",
    "                e.insert_order(\"ADYEN\", price=price_bid+1, volume=base_volumeY, side='bid', order_type='ioc') \n",
    "                #Buy kpn      \n",
    "                e.insert_order(\"KPN\", price=price_ask-1, volume=ratio_volumeX, side='ask', order_type='ioc')\n",
    "\n",
    "\n",
    "        #calculate positon ratios.\n",
    "\n",
    "        #short adyen, aim for the bid order\n",
    "\n",
    "        #long kpn, aim for the ask orders.\n",
    "\n",
    "    elif current_zspread>= Upper_boundentry:\n",
    "         #fetch most updated prices & volumes, asks of adyen because now we need to go short, bids of kpn because we need to buy it. \n",
    "        bookX = e.get_last_price_book(\"KPN\")\n",
    "        if bookX == None:\n",
    "            print('No bids at all for instrument.')\n",
    "        else:\n",
    "            best_bid = bookX.bids[0]\n",
    "            price_bid = best_bid.price\n",
    "            volume_bid = best_bid.volume\n",
    "        bookY = e.get_last_price_book(\"ADYEN\")\n",
    "        if bookY == None:\n",
    "            print('No asks at all for instrument.')\n",
    "        else:\n",
    "            best_ask = bookY.asks[0]\n",
    "            price_ask = best_ask.price\n",
    "            volume_ask = best_ask.volume \n",
    "        ratio =  lotsizeXratio\n",
    "        #figure out volumes\n",
    "        if volume_ask<=volume_bid:\n",
    "            base_volumeY = volume_ask\n",
    "            ratio_volumeX = int(round(volume_ask*ratio,0))\n",
    "            if ratio_volumeX <= volume_bid:\n",
    "                #check if trading breaks rules\n",
    "                if positions[\"ADYEN\"] + -1*int(base_volumeY) >-200 and positions[\"KPN\"] + ratio_volumeX <200 and base_volumeY<400 and ratio_volumeX<400:\n",
    "                    #execute orders  \n",
    "                    #short adyen ### Can go +1 on and -1 on ask to make sure you get filled. This may cause the profitability to decrease. \n",
    "                    #To solve this I should have calcultated the potential profit even with a bigger spread and if it is negative, do not trade.\n",
    "                    e.insert_order(\"ADYEN\", price=price_ask-1, volume=base_volumeY, side='ask', order_type='ioc') \n",
    "                    #Buy kpn      \n",
    "                    e.insert_order(\"KPN\", price=price_bid+1, volume=ratio_volumeX, side='bid', order_type='ioc')\n",
    "            else:\n",
    "                base_volumeY = int(round(volume_bid/ratio,0))\n",
    "                ratio_volumeX = volume_bid\n",
    "                #check if trading breaks rules\n",
    "                if positions[\"ADYEN\"] + -1*int(base_volumeY) >-200 and positions[\"KPN\"] + ratio_volumeX <200 and base_volumeY<400 and ratio_volumeX<400:\n",
    "                    #execute\n",
    "                    #short adyen\n",
    "                    e.insert_order(\"ADYEN\", price=price_ask-1, volume=base_volumeY, side='ask', order_type='ioc') \n",
    "                    #Buy kpn      \n",
    "                    e.insert_order(\"KPN\", price=price_bid+1, volume=ratio_volumeX, side='bid', order_type='ioc')\n",
    "        else: \n",
    "            base_volumeY = int(round(volume_ask/ratio,0))\n",
    "            ratio_volumeX = volume_ask\n",
    "            #check if trading breaks rules\n",
    "            if positions[\"ADYEN\"] + -1*int(base_volumeY) >-200 and positions[\"KPN\"] + ratio_volumeX <200 and base_volumeY<400 and ratio_volumeX<400:\n",
    "                #execute orders  \n",
    "                #short adyen\n",
    "                e.insert_order(\"ADYEN\", price=price_ask-1, volume=base_volumeY, side='ask', order_type='ioc') \n",
    "                #Buy kpn      \n",
    "                e.insert_order(\"KPN\", price=price_bid+1, volume=ratio_volumeX, side='bid', order_type='ioc')\n",
    "\n",
    "\n",
    "\n",
    "            #fetch most updated prices\n",
    "\n",
    "            #calculate positon ratios.\n",
    "\n",
    "            #long adyen\n",
    "\n",
    "            #short kpn.\n",
    "\n",
    "    #Get most recent prices.\n",
    "\n",
    "    #Trade on the most recent prices with the right directions. \n",
    "\n",
    "    # When trading on Optibook, you are not allowed to cross the following predefined limits:\n",
    "    # - Total position (long or short) per instrument may not be more than 200\n",
    "    # - Total outstanding (pending) orders may not be more than 400 lots per instrument\n",
    "    # - The maximum number of updates (inserts/deletes/amends) which are sent to the market may not be \n",
    "    # more than 25 updates per second"
   ]
  },
  {
   "cell_type": "markdown",
   "metadata": {},
   "source": [
    "Now I needed to make sure that I could unwind my position as soon as the z-score got back to the mean z-score again.\n",
    "\n",
    "I tested it also with using the reverse of the upper and lower bounds as exits. This would in theory make it so that a lot of profit has been captured.\n",
    "In practice I kept about as unprofitable as before though. "
   ]
  },
  {
   "cell_type": "code",
   "execution_count": 14,
   "metadata": {},
   "outputs": [],
   "source": [
    "def unwinder():\n",
    "    Upper_boundentry = mean_zspread+2.9*std_zspread\n",
    "    Lower_boundentry =  mean_zspread-2.9*std_zspread\n",
    "    positions = e.get_positions()\n",
    "    current_zspread = np.log(vwap_calculator('ADYEN'))-gamma*np.log(vwap_calculator('KPN'))-c\n",
    "    if positions[\"ADYEN\"]>0 and current_zspread>=Upper_boundentry: #Here we need to sell adyen and buy kpn. In this case I should have profited a lot from the difference in spread.\n",
    "        #get closest prices. \n",
    "        bookX = e.get_last_price_book(\"KPN\")\n",
    "        if bookX == None:\n",
    "            print('No bids at all for instrument.')\n",
    "        else:\n",
    "            best_bid = bookX.bids[0]\n",
    "            price_bid = best_bid.price\n",
    "            volume_bid = best_bid.volume\n",
    "        bookY = e.get_last_price_book(\"ADYEN\")\n",
    "        if bookY == None:\n",
    "            print('No asks at all for instrument.')\n",
    "        else:\n",
    "            best_ask = bookY.asks[0]\n",
    "            price_ask = best_ask.price\n",
    "            volume_ask = best_ask.volume \n",
    "        for s, p in e.get_positions().items():\n",
    "            if p > 0:\n",
    "                e.insert_order(s, price=price_ask-1, volume=p, side='ask', order_type='ioc')\n",
    "            elif p < 0:\n",
    "                e.insert_order(s, price=price_bid+1, volume=-p, side='bid', order_type='ioc')\n",
    "            time.sleep(0.10)\n",
    "        positions = e.get_positions()\n",
    "        print(f'\\nPnL after: {e.get_pnl():.2f}')\n",
    "    # And do vice versa.\n",
    "    if positions[\"ADYEN\"]<0 and current_zspread<=Lower_boundentry: \n",
    "        bookY = e.get_last_price_book(\"ADYEN\")\n",
    "        if bookY== None:\n",
    "            print('No bids at all for instrument.')\n",
    "        else:\n",
    "            best_bid = bookY.bids[0]\n",
    "            price_bid = best_bid.price\n",
    "            volume_bid = best_bid.volume\n",
    "        bookX = e.get_last_price_book(\"KPN\")\n",
    "        if bookX==None:\n",
    "            print('No asks at all for instrument.')\n",
    "        else:\n",
    "            best_ask = bookX.asks[0]\n",
    "            price_ask = best_ask.price\n",
    "            volume_ask = best_ask.volume \n",
    "        for s, p in e.get_positions().items():\n",
    "            if p > 0:\n",
    "                e.insert_order(s, price=price_ask-1, volume=p, side='ask', order_type='ioc')\n",
    "            elif p < 0:\n",
    "                e.insert_order(s, price=price_bid+1, volume=-p, side='bid', order_type='ioc')\n",
    "            time.sleep(0.10)\n",
    "        print(f'\\nPnL after: {e.get_pnl():.2f}')\n",
    "    "
   ]
  },
  {
   "cell_type": "code",
   "execution_count": 15,
   "metadata": {},
   "outputs": [],
   "source": [
    "def showpositionandcash():\n",
    "    # Returns postions with cash component\n",
    "    positions = e.get_positions_and_cash()\n",
    "    for iid in instrument_id:\n",
    "        print(f'''{iid:18s}: {positions[iid]['volume']:3.0f} position, {positions[iid]['cash']:10.2f} cash''')"
   ]
  },
  {
   "cell_type": "code",
   "execution_count": 16,
   "metadata": {},
   "outputs": [],
   "source": [
    "# while True: \n",
    "#     try: \n",
    "#         twosigmaopencointegrationtrade()\n",
    "#         unwinder()\n",
    "#     except:\n",
    "#         pass"
   ]
  },
  {
   "cell_type": "markdown",
   "metadata": {},
   "source": [
    "### Concluding\n",
    "\n",
    "I did not mange to make this strategy profitable, but at least after many hours of trying it ran. \n",
    "\n",
    "The most proift I lost, of which I was aware was an hourly pnl was -25k."
   ]
  },
  {
   "cell_type": "markdown",
   "metadata": {
    "tags": []
   },
   "source": [
    "## Question 2"
   ]
  },
  {
   "cell_type": "markdown",
   "metadata": {},
   "source": [
    "As so far I have found that the strategy I used for cointegration did not yield in profits, I will absolutely not use it for this question.\n",
    "\n",
    "\n",
    "### Strategies\n",
    "1. Make a market in options as we did in assignment 1.\n",
    "\n",
    "\n",
    "2. Use limit orders that will execute against ioc orders that use prices that are a considerable amount below or above the fair price, which other people use to close out their positons.\n",
    "\n"
   ]
  },
  {
   "cell_type": "code",
   "execution_count": 17,
   "metadata": {},
   "outputs": [],
   "source": [
    "# connect\n",
    "from optibook.synchronous_client import Exchange\n",
    "import time\n",
    "import logging\n",
    "logger = logging.getLogger('client')\n",
    "logger.setLevel('ERROR')\n",
    "import datetime\n",
    "import datetime as dt\n",
    "from scipy import stats\n",
    "import numpy as np"
   ]
  },
  {
   "cell_type": "code",
   "execution_count": 18,
   "metadata": {},
   "outputs": [
    {
     "name": "stdout",
     "output_type": "stream",
     "text": [
      "0.014005214112555306 0.003979401829485913 0.013976298802220573\n"
     ]
    }
   ],
   "source": [
    "# Calculate the historical volatility for each stock. \n",
    "def historic_volatility(stock):\n",
    "    price = data[stock]\n",
    "    r = np.diff(np.log(price))\n",
    "    r_mean = np.mean(r)\n",
    "    diff_square = [(r[i]-r_mean)**2 for i in range(0,len(r))]\n",
    "    std = np.sqrt(sum(diff_square)*(1.0/(len(r)-1)))\n",
    "    vol = std*np.sqrt(252)\n",
    "    return vol\n",
    "vola_ADYEN = historic_volatility(\"ADYEN\")\n",
    "vola_KPN = historic_volatility(\"KPN\")\n",
    "vola_TKWY = historic_volatility(\"TKWY\")\n",
    "\n",
    "from scipy import stats\n",
    "import numpy as np\n",
    "import datetime as dt\n",
    "\n",
    "\n",
    "_norm_cdf = stats.norm(0, 1).cdf\n",
    "_norm_pdf = stats.norm(0, 1).pdf\n",
    "\n",
    "\n",
    "print(vola_ADYEN, vola_KPN, vola_TKWY)"
   ]
  },
  {
   "cell_type": "code",
   "execution_count": 19,
   "metadata": {},
   "outputs": [],
   "source": [
    "# Here I will show all the possible functions I can use. \n",
    "def deleteoutstanding(instrument_id): #instrument_id should be a list. \n",
    "    for i in instrument_id:\n",
    "        outstanding = e.get_outstanding_orders(i)\n",
    "        for o in outstanding.values():\n",
    "            result = e.delete_order(instrument_id, order_id=o.order_id)\n",
    "            \n",
    "def calculate_time_to_date(expiry_date, current_time) -> float:\n",
    "    return (expiry_date - current_time) / dt.timedelta(days=1) / 365\n",
    "\n",
    "def calculate_current_time_to_date(expiry_date) -> float:\n",
    "    now = dt.datetime.now()\n",
    "    return calculate_time_to_date(expiry_date, now)\n",
    " \n",
    "def _d1(S, K, T, r, sigma):\n",
    "    return (np.log(S / K) + (r + 0.5 * sigma ** 2) * T) / (sigma * np.sqrt(T))\n",
    "\n",
    "\n",
    "def _d2(S, K, T, r, sigma):\n",
    "    return _d1(S, K, T, r, sigma) - sigma * np.sqrt(T)\n",
    "\n",
    "def call_value(S, K, T, r, sigma):\n",
    "    return S * _norm_cdf(_d1(S, K, T, r, sigma)) - K * np.exp(-r * T) * _norm_cdf(\n",
    "        _d2(S, K, T, r, sigma)\n",
    "    )\n",
    "def put_value(S, K, T, r, sigma):\n",
    "    return np.exp(-r * T) * K * _norm_cdf(-_d2(S, K, T, r, sigma)) - S * _norm_cdf(\n",
    "        -_d1(S, K, T, r, sigma)\n",
    "    )\n",
    "    \n",
    "def fairpricecalculator(instrument_id):\n",
    "    Option_values = [] \n",
    "    aa = 0\n",
    "    b = 0\n",
    "    for i in instrument_id:\n",
    "        book = e.get_last_price_book(i)\n",
    "        if book == None:\n",
    "            print('No bids at all for instrument.')\n",
    "        else:\n",
    "            best_bid = book.bids[0]\n",
    "            price = best_bid.price\n",
    "            volume = best_bid.volume\n",
    "            # Store the bid price\n",
    "            aa= price\n",
    "            # print(f'Best bid is {volume} lots @ price {price:.2f}.')\n",
    "\n",
    "        if book == None:\n",
    "            print('No asks at all for instrument.')\n",
    "        else:\n",
    "            best_ask = book.asks[0]\n",
    "            price = best_ask.price\n",
    "            volume = best_ask.volume\n",
    "            # print(f'Best ask is {volume} lots @ price {price:.2f}.')\n",
    "            # Store the ask price\n",
    "            b = price\n",
    "        #calculate average price we call it 'S' as it is called in the black scholes formula.\n",
    "        \n",
    "        S = (aa +b)/2\n",
    "        # print(f'The average price of BMW is {S:.2f}.')\n",
    "        r = 0.0\n",
    "        sigma= historic_volatility(i)\n",
    "        #FIX THE DATES\n",
    "        expiry_date = dt.datetime(2022, 4, 29, 12, 0, 0)\n",
    "        now = dt.datetime.now()\n",
    "        T = calculate_time_to_date(expiry_date, now)\n",
    "        _norm_cdf = stats.norm(0, 1).cdf\n",
    "        _norm_pdf = stats.norm(0, 1).pdf\n",
    "        if i == \"ADYEN\" or i == \"KPN\":\n",
    "            K_list = [50,75,100] \n",
    "        else: \n",
    "            K_list = [20,30,40]\n",
    "        \n",
    "        for j in K_list:\n",
    "            call_price = call_value(S,j,T,r,sigma) \n",
    "            # print(S, j, T, r, sigma,call_price)\n",
    "            Option_values.append(call_price)\n",
    "            put_price = put_value(S,j,T,r,sigma)\n",
    "            # print(j,put_price)\n",
    "            Option_values.append(put_price)\n",
    "    return Option_values\n",
    "\n",
    "#A function that I use for rounding. \n",
    "def myround(x, prec=2, base=.1):\n",
    "    return round(base * round(float(x)/base),prec)\n",
    "def call_delta(S, K, T, r, sigma):\n",
    "    return _norm_cdf(_d1(S, K, T, r, sigma))\n",
    "def put_delta(S, K, T, r, sigma):\n",
    "    return call_delta(S, K, T, r, sigma) - 1\n",
    "instrument_id = [\"ADYEN\", \"KPN\", \"TKWY\"] #put in eventual strat def. \n",
    "\n",
    "def myroundwhole(x, prec=2, base=1):\n",
    "    return round(base * round(float(x)/base),prec)\n",
    "\n",
    "def bidask_order_and_hedge(instrument_id):\n",
    "    id_list_A =  [\"ADYEN-2022_04_29-050C\",\"ADYEN-2022_04_29-050P\", \"ADYEN-2022_04_29-075C\", \"ADYEN-2022_04_29-075P\", \"ADYEN-2022_04_29-100C\", \"ADYEN-2022_04_29-100P\"]\n",
    "    id_list_K = [\"KPN-2022_04_29-050C\",\"KPN-2022_04_29-050P\", \"KPN-2022_04_29-075C\", \"KPN-2022_04_29-075P\", \"KPN-2022_04_29-100C\", \"KPN-2022_04_29-100P\"]\n",
    "    id_list_T = [\"TKWY-2022_04_29-020C\",\"TKWY-2022_04_29-020P\", \"TKWY-2022_04_29-030C\", \"TKWY-2022_04_29-030P\", \"TKWY-2022_04_29-040C\", \"TKWY-2022_04_29-040P\"]   \n",
    "    id_list = id_list_A+id_list_K+id_list_T\n",
    "    for i in instrument_id:\n",
    "        instrument_id = i\n",
    "        e = Exchange()\n",
    "        a = e.connect()\n",
    "        #get the positions\n",
    "        positions = e.get_positions_and_cash()\n",
    "        positions_list3 = []\n",
    "        for iid in sorted(positions):\n",
    "            if iid == 'ADYEN' or iid == \"KPN\" or iid == \"TKWY\":\n",
    "                continue\n",
    "            # print(f'''{iid:18s}: {positions[iid]['volume']:3.0f} position, {positions[iid]['cash']:10.2f} cash''')\n",
    "            positions_list3.append(positions[iid]['volume'])#So first does adyen, then kpn, then tkwy. 7 each\n",
    "\n",
    "        fairpricecalculator(instrument_id)\n",
    "        #Here we make sure to insert the orders into the market, taking into account the different volumes of our positions as decribed in the report.\n",
    "        #add total hedgeA/K/T <200 then trade.\n",
    "        for i in range(len(Option_values)): #len = 18\n",
    "            # print (Option_values[i])\n",
    "            # print(id_list[i])\n",
    "            if myround(Option_values[i]) >= Option_values[i] and 50-abs(positions_list3[i]) >0 and myround(Option_values[i]) != 0.0:\n",
    "                #Then rounded upwards so Options_values[i] is the ask.\n",
    "                ask = myround(Option_values[i])\n",
    "                bid = myround(Option_values[i]-0.1)\n",
    "                result = e.insert_order(id_list[i], price=bid, volume=50-abs(positions_list3[1:][i]), side='bid', order_type='limit') # bid gives us a positive position, so we go long. \n",
    "                # print(f\"Order Id: {result}\")\n",
    "                result = e.insert_order(id_list[i], price=ask, volume=50-abs(positions_list3[1:][i]), side='ask', order_type='limit') # ask gives us a negative position, so we go short.\n",
    "                # print(f\"Order Id: {result}\")\n",
    "\n",
    "            elif myround(Option_values[i]) >= Option_values[i] and 50-positions_list3[1:][i] ==-50 and myround(Option_values[i]) != 0.0:\n",
    "                ask = myround(Option_values[i])\n",
    "                bid = myround(Option_values[i]-0.1)\n",
    "                result = e.insert_order(id_list[i], price=ask, volume=50, side='ask', order_type='limit')\n",
    "                # print(f\"Order Id: {result}\")\n",
    "            elif myround(Option_values[i]) >= Option_values[i] and 50-positions_list3[1:][i] ==150 and myround(Option_values[i]) != 0.0:   \n",
    "                ask = myround(Option_values[i]-0.1)\n",
    "                bid = myround(Option_values[i])\n",
    "                result = e.insert_order(id_list[i], price=bid, volume=50, side='bid', order_type='limit')\n",
    "                # print(f\"Order Id: {result}\")\n",
    "\n",
    "            elif  myround(Option_values[i]) < Option_values[i] and 50-abs(positions_list3[1:][i]) >0 and myround(Option_values[i]) != 0.0: #Then rounded downwards so options_vlaues[i] is the bid.\n",
    "                ask = myround(Option_values[i]+0.1)\n",
    "                bid = myround(Option_values[i])\n",
    "                result = e.insert_order(id_list[i], price=bid, volume=50-abs(positions_list3[1:][i]), side='bid', order_type='limit')\n",
    "                # print(f\"Order Id: {result}\")\n",
    "                result = e.insert_order(id_list[i], price=ask, volume=50-abs(positions_list3[1:][i]), side='ask', order_type='limit')\n",
    "                # print(f\"Order Id: {result}\")\n",
    "            elif  myround(Option_values[i]) < Option_values[i] and 50-(positions_list3[1:][i]) ==-50 and myround(Option_values[i]) != 0.0:\n",
    "                ask = myround(Option_values[i]+0.1)\n",
    "                bid = myround(Option_values[i])\n",
    "                result = e.insert_order(id_list[i], price=ask, volume=50, side='ask', order_type='limit')\n",
    "                # print(f\"Order Id: {result}\")\n",
    "            elif  myround(Option_values[i]) < Option_values[i] and 50-(positions_list3[1:][i]) ==150 and myround(Option_values[i]) != 0.0:\n",
    "                ask = myround(Option_values[i]+0.1)\n",
    "                bid = myround(Option_values[i])\n",
    "                result = e.insert_order(id_list[i], price=bid, volume=50, side='bid', order_type='limit')\n",
    "                # print(f\"Order Id: {result}\")\n",
    "\n",
    "        #Hedging, here our calculations for the delta start, together with how many stocks long or short we need to be in order to be hedged.\n",
    "\n",
    "        # Returns postions with cash component\n",
    "        positions = e.get_positions_and_cash()\n",
    "        positions_list = []\n",
    "        for iid in sorted(positions):\n",
    "            if iid == 'ADYEN' or iid == \"KPN\" or iid == \"TKWY\":\n",
    "                continue\n",
    "            # print(f'''{iid:18s}: {positions[iid]['volume']:3.0f} position, {positions[iid]['cash']:10.2f} cash''')\n",
    "            positions_list.append(positions[iid]['volume'])\n",
    "        positions_list_stocks = []\n",
    "        for iid in sorted(positions):\n",
    "            if iid == 'ADYEN' or iid == \"KPN\" or iid == \"TKWY\":\n",
    "                positions_list_stocks.append(positions[iid]['volume'])\n",
    "\n",
    "        m= call_delta(S,K,T,r,sigma)#test\n",
    "        n= put_delta(S,K,T,r,sigma)#test\n",
    "\n",
    "        Delta_values = [] #first receives all the calls and then put prices.\n",
    "        # call_delta_values = []\n",
    "        # put_delta_values = []\n",
    "        allK_list = [50,75,100,50,75,100,20,30,40]\n",
    "        for i in allK_list:\n",
    "            call_deltas = call_delta(S,i,T,r,sigma) \n",
    "            Delta_values.append(call_deltas)\n",
    "            put_deltas = put_delta(S,i,T,r,sigma)\n",
    "            Delta_values.append(put_deltas) \n",
    "        # Delta_values = call_delta_values + put_delta_values\n",
    "        \n",
    "        \n",
    "        testhedge_options = []\n",
    "        position_listA = positions_list[0:6]\n",
    "        position_listK = positions_list[6:12]\n",
    "        position_listT = positions_list[12:18]\n",
    "        for num1, num2 in zip(Delta_values[0:6], position_listA):\n",
    "            # print(num1,num2)\n",
    "            testhedge_options.append(num1 * num2)\n",
    "        for num1, num2 in zip(Delta_values[6:12], position_listK):\n",
    "            # print(num1,num2)\n",
    "            testhedge_options.append(num1 * num2)\n",
    "        for num1, num2 in zip(Delta_values[12:18], position_listT):\n",
    "            # print(num1,num2)\n",
    "            testhedge_options.append(num1 * num2)\n",
    "        #\n",
    "        total_hedgeA= myroundwhole(sum(testhedge_options[0:6])-positions_list_stocks[0:1])\n",
    "        total_hedgeK= myroundwhole(sum(testhedge_options[6:12])-positions_list_stocks[1:2])\n",
    "        total_hedgeT= myroundwhole(sum(testhedge_options[12:18])-positions_list_stocks[2:3])\n",
    "\n",
    "        if total_hedgeA >= 200: \n",
    "            total_hedgeA = 200.\n",
    "        if total_hedgeA <=-200: \n",
    "            total_hedgeA =-200  \n",
    "        if total_hedgeK >= 200: \n",
    "            total_hedgeK = 200.\n",
    "        if total_hedgeK <=-200: \n",
    "            total_hedgeK =-200 \n",
    "        if total_hedgeT >= 200: \n",
    "            total_hedgeT = 200.\n",
    "        if total_hedgeT <=-200: \n",
    "            total_hedgeT =-200 \n",
    "        \n",
    "            # print(sum(testhedge_options),total_hedge)    \n",
    "            # If we need to short, get bid price and execute ioc with bid price.\n",
    "        for i in instrument_id:\n",
    "            book = e.get_last_price_book(i)\n",
    "            if book == None:\n",
    "                print('No bids at all for instrument.')\n",
    "            else:\n",
    "                best_bid = book.bids[0]\n",
    "                price = best_bid.price\n",
    "                volume = best_bid.volume\n",
    "                # Store the bid price\n",
    "                aa= round(price,2)\n",
    "                # print(f'Best bid is {volume} lots @ price {price:.2f}.')\n",
    "            if book == None:\n",
    "                print('No asks at all for instrument.')\n",
    "            else:\n",
    "                best_ask = book.asks[0]\n",
    "                price = best_ask.price\n",
    "                volume = best_ask.volume\n",
    "                # print(f'Best ask is {volume} lots @ price {price:.2f}.')\n",
    "                # Store the ask price\n",
    "                b = round(price,2)\n",
    "            if i == \"ADYEN\":\n",
    "                total_hedge = total_hedgeA \n",
    "                positions_list = positions_list_stocks[0:1]\n",
    "            elif i == \"KPN\":\n",
    "                total_hedge = total_hedgeK\n",
    "                positions_list= positions_list_stocks[1:2]\n",
    "            else: \n",
    "                total_hedge = total_hedgeT\n",
    "                positions_list= positions_list_stocks[2:3]\n",
    "            #do the hedge    \n",
    "            if total_hedge >0:# and 200-positions_list[0]-abs(total_hedge)>0:# we need to short the instrument\n",
    "                # Insert ask IOC - This can trade against any resting volume but does not remain in the book\n",
    "                result = e.insert_order(i, price=aa+0.2, volume=abs(total_hedge), side='bid', order_type='ioc')\n",
    "                # print(f\"Order Id: {result}\")\n",
    "                #if we need to long, get ask price and execute ioc with ask price.\n",
    "            elif total_hedge <0:# and 200 - positions_list[0]  - abs(total_hedge) >0: #we need to go long in the instrument.\n",
    "                # Insert ask IOC - This can trade against any resting volume but does not remain in the book\n",
    "                result = e.insert_order(i, price=b-0.2, volume=abs(total_hedge), side='ask', order_type='ioc')\n",
    "                # print(f\"Order Id: {result}\")\n",
    "\n",
    "        #Finally we print our positions at the end of the loop to quickly check if we trade, without having to go to the visualizer portal.     \n",
    "        positions = e.get_positions_and_cash()\n",
    "        positions_list2 = []\n",
    "        for iid in sorted(positions):\n",
    "            print(f'''{iid:18s}: {positions[iid]['volume']:3.0f} position, {positions[iid]['cash']:10.2f} cash''')\n",
    "            positions_list2.append(positions[iid]['volume'])\n",
    "        print(positions_list2)"
   ]
  },
  {
   "cell_type": "code",
   "execution_count": 21,
   "metadata": {},
   "outputs": [],
   "source": [
    "def MarketCruiserDavid(instrument_id):\n",
    "    deleteoutstanding(instrument_id)\n",
    "    bidask_order_and_hedge(instrument_id)"
   ]
  },
  {
   "cell_type": "code",
   "execution_count": 22,
   "metadata": {},
   "outputs": [
    {
     "name": "stderr",
     "output_type": "stream",
     "text": [
      "2022-03-22 22:10:12,353 [asyncio   ] [MainThread  ] Using selector: EpollSelector\n"
     ]
    },
    {
     "name": "stdout",
     "output_type": "stream",
     "text": [
      "No bids at all for instrument.\n",
      "No asks at all for instrument.\n"
     ]
    },
    {
     "name": "stderr",
     "output_type": "stream",
     "text": [
      "2022-03-22 22:10:12,475 [client    ] [Thread-4    ] Forcing a disconnect due to an error: Closing connection because someone else logged in with the same credentials. Only one session may be active at the same time.\n"
     ]
    },
    {
     "ename": "KeyError",
     "evalue": "'A'",
     "output_type": "error",
     "traceback": [
      "\u001b[0;31m---------------------------------------------------------------------------\u001b[0m",
      "\u001b[0;31mKeyError\u001b[0m                                  Traceback (most recent call last)",
      "\u001b[0;32m/usr/local/lib64/python3.6/site-packages/pandas/core/indexes/base.py\u001b[0m in \u001b[0;36mget_loc\u001b[0;34m(self, key, method, tolerance)\u001b[0m\n\u001b[1;32m   2897\u001b[0m             \u001b[0;32mtry\u001b[0m\u001b[0;34m:\u001b[0m\u001b[0;34m\u001b[0m\u001b[0;34m\u001b[0m\u001b[0m\n\u001b[0;32m-> 2898\u001b[0;31m                 \u001b[0;32mreturn\u001b[0m \u001b[0mself\u001b[0m\u001b[0;34m.\u001b[0m\u001b[0m_engine\u001b[0m\u001b[0;34m.\u001b[0m\u001b[0mget_loc\u001b[0m\u001b[0;34m(\u001b[0m\u001b[0mcasted_key\u001b[0m\u001b[0;34m)\u001b[0m\u001b[0;34m\u001b[0m\u001b[0;34m\u001b[0m\u001b[0m\n\u001b[0m\u001b[1;32m   2899\u001b[0m             \u001b[0;32mexcept\u001b[0m \u001b[0mKeyError\u001b[0m \u001b[0;32mas\u001b[0m \u001b[0merr\u001b[0m\u001b[0;34m:\u001b[0m\u001b[0;34m\u001b[0m\u001b[0;34m\u001b[0m\u001b[0m\n",
      "\u001b[0;32mpandas/_libs/index.pyx\u001b[0m in \u001b[0;36mpandas._libs.index.IndexEngine.get_loc\u001b[0;34m()\u001b[0m\n",
      "\u001b[0;32mpandas/_libs/index.pyx\u001b[0m in \u001b[0;36mpandas._libs.index.IndexEngine.get_loc\u001b[0;34m()\u001b[0m\n",
      "\u001b[0;32mpandas/_libs/hashtable_class_helper.pxi\u001b[0m in \u001b[0;36mpandas._libs.hashtable.PyObjectHashTable.get_item\u001b[0;34m()\u001b[0m\n",
      "\u001b[0;32mpandas/_libs/hashtable_class_helper.pxi\u001b[0m in \u001b[0;36mpandas._libs.hashtable.PyObjectHashTable.get_item\u001b[0;34m()\u001b[0m\n",
      "\u001b[0;31mKeyError\u001b[0m: 'A'",
      "\nThe above exception was the direct cause of the following exception:\n",
      "\u001b[0;31mKeyError\u001b[0m                                  Traceback (most recent call last)",
      "\u001b[0;32m<ipython-input-22-3350e8548a62>\u001b[0m in \u001b[0;36m<module>\u001b[0;34m\u001b[0m\n\u001b[1;32m     17\u001b[0m \u001b[0;32mwhile\u001b[0m \u001b[0;32mTrue\u001b[0m\u001b[0;34m:\u001b[0m\u001b[0;34m\u001b[0m\u001b[0;34m\u001b[0m\u001b[0m\n\u001b[1;32m     18\u001b[0m     \u001b[0;31m# try:\u001b[0m\u001b[0;34m\u001b[0m\u001b[0;34m\u001b[0m\u001b[0;34m\u001b[0m\u001b[0m\n\u001b[0;32m---> 19\u001b[0;31m     \u001b[0mMarketCruiserDavid\u001b[0m\u001b[0;34m(\u001b[0m\u001b[0minstrument_id\u001b[0m\u001b[0;34m)\u001b[0m\u001b[0;34m\u001b[0m\u001b[0;34m\u001b[0m\u001b[0m\n\u001b[0m\u001b[1;32m     20\u001b[0m     \u001b[0;31m# except:\u001b[0m\u001b[0;34m\u001b[0m\u001b[0;34m\u001b[0m\u001b[0;34m\u001b[0m\u001b[0m\n\u001b[1;32m     21\u001b[0m     \u001b[0;31m#     pass\u001b[0m\u001b[0;34m\u001b[0m\u001b[0;34m\u001b[0m\u001b[0;34m\u001b[0m\u001b[0m\n",
      "\u001b[0;32m<ipython-input-21-3d70999b83ad>\u001b[0m in \u001b[0;36mMarketCruiserDavid\u001b[0;34m(instrument_id)\u001b[0m\n\u001b[1;32m      1\u001b[0m \u001b[0;32mdef\u001b[0m \u001b[0mMarketCruiserDavid\u001b[0m\u001b[0;34m(\u001b[0m\u001b[0minstrument_id\u001b[0m\u001b[0;34m)\u001b[0m\u001b[0;34m:\u001b[0m\u001b[0;34m\u001b[0m\u001b[0;34m\u001b[0m\u001b[0m\n\u001b[1;32m      2\u001b[0m     \u001b[0mdeleteoutstanding\u001b[0m\u001b[0;34m(\u001b[0m\u001b[0minstrument_id\u001b[0m\u001b[0;34m)\u001b[0m\u001b[0;34m\u001b[0m\u001b[0;34m\u001b[0m\u001b[0m\n\u001b[0;32m----> 3\u001b[0;31m     \u001b[0mbidask_order_and_hedge\u001b[0m\u001b[0;34m(\u001b[0m\u001b[0minstrument_id\u001b[0m\u001b[0;34m)\u001b[0m\u001b[0;34m\u001b[0m\u001b[0;34m\u001b[0m\u001b[0m\n\u001b[0m",
      "\u001b[0;32m<ipython-input-19-4d0f95ed13d2>\u001b[0m in \u001b[0;36mbidask_order_and_hedge\u001b[0;34m(instrument_id)\u001b[0m\n\u001b[1;32m    110\u001b[0m             \u001b[0mpositions_list3\u001b[0m\u001b[0;34m.\u001b[0m\u001b[0mappend\u001b[0m\u001b[0;34m(\u001b[0m\u001b[0mpositions\u001b[0m\u001b[0;34m[\u001b[0m\u001b[0miid\u001b[0m\u001b[0;34m]\u001b[0m\u001b[0;34m[\u001b[0m\u001b[0;34m'volume'\u001b[0m\u001b[0;34m]\u001b[0m\u001b[0;34m)\u001b[0m\u001b[0;31m#So first does adyen, then kpn, then tkwy. 7 each\u001b[0m\u001b[0;34m\u001b[0m\u001b[0;34m\u001b[0m\u001b[0m\n\u001b[1;32m    111\u001b[0m \u001b[0;34m\u001b[0m\u001b[0m\n\u001b[0;32m--> 112\u001b[0;31m         \u001b[0mfairpricecalculator\u001b[0m\u001b[0;34m(\u001b[0m\u001b[0minstrument_id\u001b[0m\u001b[0;34m)\u001b[0m\u001b[0;34m\u001b[0m\u001b[0;34m\u001b[0m\u001b[0m\n\u001b[0m\u001b[1;32m    113\u001b[0m         \u001b[0;31m#Here we make sure to insert the orders into the market, taking into account the different volumes of our positions as decribed in the report.\u001b[0m\u001b[0;34m\u001b[0m\u001b[0;34m\u001b[0m\u001b[0;34m\u001b[0m\u001b[0m\n\u001b[1;32m    114\u001b[0m         \u001b[0;31m#add total hedgeA/K/T <200 then trade.\u001b[0m\u001b[0;34m\u001b[0m\u001b[0;34m\u001b[0m\u001b[0;34m\u001b[0m\u001b[0m\n",
      "\u001b[0;32m<ipython-input-19-4d0f95ed13d2>\u001b[0m in \u001b[0;36mfairpricecalculator\u001b[0;34m(instrument_id)\u001b[0m\n\u001b[1;32m     59\u001b[0m         \u001b[0;31m# print(f'The average price of BMW is {S:.2f}.')\u001b[0m\u001b[0;34m\u001b[0m\u001b[0;34m\u001b[0m\u001b[0;34m\u001b[0m\u001b[0m\n\u001b[1;32m     60\u001b[0m         \u001b[0mr\u001b[0m \u001b[0;34m=\u001b[0m \u001b[0;36m0.0\u001b[0m\u001b[0;34m\u001b[0m\u001b[0;34m\u001b[0m\u001b[0m\n\u001b[0;32m---> 61\u001b[0;31m         \u001b[0msigma\u001b[0m\u001b[0;34m=\u001b[0m \u001b[0mhistoric_volatility\u001b[0m\u001b[0;34m(\u001b[0m\u001b[0mi\u001b[0m\u001b[0;34m)\u001b[0m\u001b[0;34m\u001b[0m\u001b[0;34m\u001b[0m\u001b[0m\n\u001b[0m\u001b[1;32m     62\u001b[0m         \u001b[0;31m#FIX THE DATES\u001b[0m\u001b[0;34m\u001b[0m\u001b[0;34m\u001b[0m\u001b[0;34m\u001b[0m\u001b[0m\n\u001b[1;32m     63\u001b[0m         \u001b[0mexpiry_date\u001b[0m \u001b[0;34m=\u001b[0m \u001b[0mdt\u001b[0m\u001b[0;34m.\u001b[0m\u001b[0mdatetime\u001b[0m\u001b[0;34m(\u001b[0m\u001b[0;36m2022\u001b[0m\u001b[0;34m,\u001b[0m \u001b[0;36m4\u001b[0m\u001b[0;34m,\u001b[0m \u001b[0;36m29\u001b[0m\u001b[0;34m,\u001b[0m \u001b[0;36m12\u001b[0m\u001b[0;34m,\u001b[0m \u001b[0;36m0\u001b[0m\u001b[0;34m,\u001b[0m \u001b[0;36m0\u001b[0m\u001b[0;34m)\u001b[0m\u001b[0;34m\u001b[0m\u001b[0;34m\u001b[0m\u001b[0m\n",
      "\u001b[0;32m<ipython-input-18-58f14a197b98>\u001b[0m in \u001b[0;36mhistoric_volatility\u001b[0;34m(stock)\u001b[0m\n\u001b[1;32m      1\u001b[0m \u001b[0;31m# Calculate the historical volatility for each stock.\u001b[0m\u001b[0;34m\u001b[0m\u001b[0;34m\u001b[0m\u001b[0;34m\u001b[0m\u001b[0m\n\u001b[1;32m      2\u001b[0m \u001b[0;32mdef\u001b[0m \u001b[0mhistoric_volatility\u001b[0m\u001b[0;34m(\u001b[0m\u001b[0mstock\u001b[0m\u001b[0;34m)\u001b[0m\u001b[0;34m:\u001b[0m\u001b[0;34m\u001b[0m\u001b[0;34m\u001b[0m\u001b[0m\n\u001b[0;32m----> 3\u001b[0;31m     \u001b[0mprice\u001b[0m \u001b[0;34m=\u001b[0m \u001b[0mdata\u001b[0m\u001b[0;34m[\u001b[0m\u001b[0mstock\u001b[0m\u001b[0;34m]\u001b[0m\u001b[0;34m\u001b[0m\u001b[0;34m\u001b[0m\u001b[0m\n\u001b[0m\u001b[1;32m      4\u001b[0m     \u001b[0mr\u001b[0m \u001b[0;34m=\u001b[0m \u001b[0mnp\u001b[0m\u001b[0;34m.\u001b[0m\u001b[0mdiff\u001b[0m\u001b[0;34m(\u001b[0m\u001b[0mnp\u001b[0m\u001b[0;34m.\u001b[0m\u001b[0mlog\u001b[0m\u001b[0;34m(\u001b[0m\u001b[0mprice\u001b[0m\u001b[0;34m)\u001b[0m\u001b[0;34m)\u001b[0m\u001b[0;34m\u001b[0m\u001b[0;34m\u001b[0m\u001b[0m\n\u001b[1;32m      5\u001b[0m     \u001b[0mr_mean\u001b[0m \u001b[0;34m=\u001b[0m \u001b[0mnp\u001b[0m\u001b[0;34m.\u001b[0m\u001b[0mmean\u001b[0m\u001b[0;34m(\u001b[0m\u001b[0mr\u001b[0m\u001b[0;34m)\u001b[0m\u001b[0;34m\u001b[0m\u001b[0;34m\u001b[0m\u001b[0m\n",
      "\u001b[0;32m/usr/local/lib64/python3.6/site-packages/pandas/core/frame.py\u001b[0m in \u001b[0;36m__getitem__\u001b[0;34m(self, key)\u001b[0m\n\u001b[1;32m   2904\u001b[0m             \u001b[0;32mif\u001b[0m \u001b[0mself\u001b[0m\u001b[0;34m.\u001b[0m\u001b[0mcolumns\u001b[0m\u001b[0;34m.\u001b[0m\u001b[0mnlevels\u001b[0m \u001b[0;34m>\u001b[0m \u001b[0;36m1\u001b[0m\u001b[0;34m:\u001b[0m\u001b[0;34m\u001b[0m\u001b[0;34m\u001b[0m\u001b[0m\n\u001b[1;32m   2905\u001b[0m                 \u001b[0;32mreturn\u001b[0m \u001b[0mself\u001b[0m\u001b[0;34m.\u001b[0m\u001b[0m_getitem_multilevel\u001b[0m\u001b[0;34m(\u001b[0m\u001b[0mkey\u001b[0m\u001b[0;34m)\u001b[0m\u001b[0;34m\u001b[0m\u001b[0;34m\u001b[0m\u001b[0m\n\u001b[0;32m-> 2906\u001b[0;31m             \u001b[0mindexer\u001b[0m \u001b[0;34m=\u001b[0m \u001b[0mself\u001b[0m\u001b[0;34m.\u001b[0m\u001b[0mcolumns\u001b[0m\u001b[0;34m.\u001b[0m\u001b[0mget_loc\u001b[0m\u001b[0;34m(\u001b[0m\u001b[0mkey\u001b[0m\u001b[0;34m)\u001b[0m\u001b[0;34m\u001b[0m\u001b[0;34m\u001b[0m\u001b[0m\n\u001b[0m\u001b[1;32m   2907\u001b[0m             \u001b[0;32mif\u001b[0m \u001b[0mis_integer\u001b[0m\u001b[0;34m(\u001b[0m\u001b[0mindexer\u001b[0m\u001b[0;34m)\u001b[0m\u001b[0;34m:\u001b[0m\u001b[0;34m\u001b[0m\u001b[0;34m\u001b[0m\u001b[0m\n\u001b[1;32m   2908\u001b[0m                 \u001b[0mindexer\u001b[0m \u001b[0;34m=\u001b[0m \u001b[0;34m[\u001b[0m\u001b[0mindexer\u001b[0m\u001b[0;34m]\u001b[0m\u001b[0;34m\u001b[0m\u001b[0;34m\u001b[0m\u001b[0m\n",
      "\u001b[0;32m/usr/local/lib64/python3.6/site-packages/pandas/core/indexes/base.py\u001b[0m in \u001b[0;36mget_loc\u001b[0;34m(self, key, method, tolerance)\u001b[0m\n\u001b[1;32m   2898\u001b[0m                 \u001b[0;32mreturn\u001b[0m \u001b[0mself\u001b[0m\u001b[0;34m.\u001b[0m\u001b[0m_engine\u001b[0m\u001b[0;34m.\u001b[0m\u001b[0mget_loc\u001b[0m\u001b[0;34m(\u001b[0m\u001b[0mcasted_key\u001b[0m\u001b[0;34m)\u001b[0m\u001b[0;34m\u001b[0m\u001b[0;34m\u001b[0m\u001b[0m\n\u001b[1;32m   2899\u001b[0m             \u001b[0;32mexcept\u001b[0m \u001b[0mKeyError\u001b[0m \u001b[0;32mas\u001b[0m \u001b[0merr\u001b[0m\u001b[0;34m:\u001b[0m\u001b[0;34m\u001b[0m\u001b[0;34m\u001b[0m\u001b[0m\n\u001b[0;32m-> 2900\u001b[0;31m                 \u001b[0;32mraise\u001b[0m \u001b[0mKeyError\u001b[0m\u001b[0;34m(\u001b[0m\u001b[0mkey\u001b[0m\u001b[0;34m)\u001b[0m \u001b[0;32mfrom\u001b[0m \u001b[0merr\u001b[0m\u001b[0;34m\u001b[0m\u001b[0;34m\u001b[0m\u001b[0m\n\u001b[0m\u001b[1;32m   2901\u001b[0m \u001b[0;34m\u001b[0m\u001b[0m\n\u001b[1;32m   2902\u001b[0m         \u001b[0;32mif\u001b[0m \u001b[0mtolerance\u001b[0m \u001b[0;32mis\u001b[0m \u001b[0;32mnot\u001b[0m \u001b[0;32mNone\u001b[0m\u001b[0;34m:\u001b[0m\u001b[0;34m\u001b[0m\u001b[0;34m\u001b[0m\u001b[0m\n",
      "\u001b[0;31mKeyError\u001b[0m: 'A'"
     ]
    }
   ],
   "source": [
    "# connect\n",
    "from optibook.synchronous_client import Exchange\n",
    "import time\n",
    "import logging\n",
    "logger = logging.getLogger('client')\n",
    "logger.setLevel('ERROR')\n",
    "import datetime\n",
    "import datetime as dt\n",
    "from scipy import stats\n",
    "import numpy as np\n",
    "\n",
    "# e = Exchange()\n",
    "# a = e.connect()\n",
    "\n",
    "\n",
    "instrument_id = [\"ADYEN\", \"KPN\", \"TKWY\"]\n",
    "while True:\n",
    "    # try:\n",
    "    MarketCruiserDavid(instrument_id)\n",
    "    # except:\n",
    "    #     pass"
   ]
  },
  {
   "cell_type": "code",
   "execution_count": null,
   "metadata": {},
   "outputs": [],
   "source": []
  },
  {
   "cell_type": "code",
   "execution_count": null,
   "metadata": {},
   "outputs": [],
   "source": []
  },
  {
   "cell_type": "code",
   "execution_count": null,
   "metadata": {},
   "outputs": [],
   "source": []
  },
  {
   "cell_type": "code",
   "execution_count": null,
   "metadata": {},
   "outputs": [],
   "source": []
  },
  {
   "cell_type": "code",
   "execution_count": null,
   "metadata": {},
   "outputs": [],
   "source": []
  },
  {
   "cell_type": "code",
   "execution_count": null,
   "metadata": {},
   "outputs": [],
   "source": []
  },
  {
   "cell_type": "code",
   "execution_count": null,
   "metadata": {},
   "outputs": [],
   "source": []
  },
  {
   "cell_type": "markdown",
   "metadata": {},
   "source": [
    "## to do:\n",
    "\n",
    "Turn on the strategy of question 1\n",
    "final things to change: Make sure that the options take their deltas into consideration when trading so that you'd never trade once your delta becomes a certain number. Then only the hedging and trades on the other side would resolve the delta exposure automatically. "
   ]
  },
  {
   "cell_type": "markdown",
   "metadata": {},
   "source": [
    "## Final remarks question 2\n",
    "\n",
    "The code is not running while I believe it should. I had no more time to figure out why. "
   ]
  }
 ],
 "metadata": {
  "kernelspec": {
   "display_name": "Python 3",
   "language": "python",
   "name": "python3"
  },
  "language_info": {
   "codemirror_mode": {
    "name": "ipython",
    "version": 3
   },
   "file_extension": ".py",
   "mimetype": "text/x-python",
   "name": "python",
   "nbconvert_exporter": "python",
   "pygments_lexer": "ipython3",
   "version": "3.6.12"
  }
 },
 "nbformat": 4,
 "nbformat_minor": 4
}
