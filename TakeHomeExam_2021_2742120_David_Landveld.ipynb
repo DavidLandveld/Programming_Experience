{
 "cells": [
  {
   "cell_type": "markdown",
   "metadata": {
    "id": "7wKghRwZLgyn"
   },
   "source": [
    "# Take home exam\n",
    "\n",
    "Machine Learning for Finance  \n",
    "VU Amsterdam    \n",
    "\n",
    "**Student**<br/> \n",
    "David Landveld <br/>\n",
    "2742120\n",
    "\n",
    "**Instructors**  \n",
    "Iman van Lelyveld (iman.van.lelyveld@vu.nl)<br/>\n",
    "Gert Rietveld (g.rietveld@student.vu.nl)  \n",
    "\n",
    "<span style='color:crimson; font-weight: bold'>Submission deadline: 24 Dec 2021, 6pm CET</span>\n",
    "\n",
    "<img src=\"https://upload.wikimedia.org/wikipedia/commons/2/23/VUlogo_Wit_RGB_mettekst_tcm289-835563.svg\" width=\"200\" style=\"position:absolute; top:0; right:20px\"/>\n",
    "\n",
    "----\n",
    "\n",
    "<span style='color:crimson; font-weight: bold'>This exam is individual work. Collaboration is strictly forbidden. Suspected cases of copying or plagiarism will be sent to the examination board.</span>\n",
    "\n",
    "**Expectations and general advice**\n",
    "* Ensure that your notebook runs error-free.\n",
    "* Only present the necessary code and results.\n",
    "* Keep your discussions and explanations short and to the point. Very long answers usually hurt more than they help.\n",
    "* Present visualizations when they are asked for. If you want to include more, make sure they contribute to your answer.\n",
    "* All data needed is contained in the `data` folder. \n",
    "\n",
    "<div style='text-align: center; font-weight: bold; padding-top:30px;'>Good luck!</div>\n",
    "\n",
    "\n",
    "\n",
    "**Background**\n",
    "\n",
    "In Assignment 1 we looked at a classification problem with a relatively small set and limited number of features. In this take home we have a labeled data set from an Australian mortgage bank that wants to predict the default of it's lenders. The exact date range of the data is not given but last data point added was in 2018 (time stamps not recorded in the data). The market was booming at the time as can be seen in the graph.\n",
    "\n",
    "![Australian real estate prices](aud-property-prices.jpeg)\n",
    "\n",
    "With such a rich data set we will first use economic theory to select 25 features that should help in classifying the observations in defaulted and non-defaulted loans (recorded in the `default` column. Make sure to include the `gender` column. Then we will take the usual step of inspecting the set and understand better what the data is about.\n",
    "\n",
    "\n",
    "In this exam is divided into two sections. Part I is about applying machine learning methods to examine default prediction in various ways. Each question has a technical part (e.g. data-processing, model fitting) and a comprehension part (e.g. explaining your choices, discussing results). While the technical parts are necessary, we value the comprehension part equally. Part II is thus about your general understanding of machine learning, what pitfalls there are and what the challenges machine learning applications may face in the real world.\n",
    "\n",
    "----"
   ]
  },
  {
   "cell_type": "markdown",
   "metadata": {
    "id": "e7iYMQjGLgys"
   },
   "source": [
    "<div style=\"font-size:250%; line-height:120%; padding: 50px 0 20px 0; border-bottom: 4px solid black;\">\n",
    "    Part I: Data preprocessing\n",
    "</div>\n",
    "\n",
    "# Question 1 [16P]\n",
    "\n",
    "Load the following data file\n",
    "* `data.csv`  and call it `df_data`.\n",
    "Column 1 (`identifier`) is the unique identifier.  \n",
    "Column 2-120 are the 119 characteristics of the lenders.  \n",
    "\n",
    "----\n",
    "\n",
    "**a)**\n",
    "The dataset has a very large set of characteristics of the lenders. To make the analysis manageable we want to reduce the number of characteristics to just 25 columns (excluding `identifier` and including `gender'). Select, based on economic and financial knowledge, those features that seem most promising."
   ]
  },
  {
   "cell_type": "markdown",
   "metadata": {
    "id": "hLTET93yLgyu"
   },
   "source": [
    "<div style=\"color:blue; border-bottom: 7px solid rgba(0,0,255,.3); line-height:36pt; font-size:165.7%; font-weight:bold; padding-left:.3em;\">Answer</div>"
   ]
  },
  {
   "cell_type": "code",
   "execution_count": 18,
   "metadata": {
    "id": "Ftht79h9Lgyv"
   },
   "outputs": [],
   "source": [
    "\n",
    "import pandas as pd\n",
    "import numpy as np\n",
    "import matplotlib.pyplot as plt\n",
    "import os\n",
    "import sklearn\n",
    "import seaborn as sns\n",
    "import matplotlib as mpl\n",
    "from math import sqrt\n",
    "import matplotlib.ticker as ticker\n",
    "import matplotlib.cm as cm\n",
    "from sklearn.model_selection import cross_val_score\n",
    "from sklearn.linear_model import LogisticRegression\n",
    "from sklearn.naive_bayes import GaussianNB\n",
    "from sklearn.ensemble import RandomForestClassifier\n",
    "from sklearn.ensemble import VotingClassifier\n",
    "from sklearn.neighbors import KNeighborsClassifier\n",
    "from sklearn.tree import DecisionTreeClassifier\n",
    "from sklearn.svm import SVC\n",
    "from sklearn.decomposition import PCA\n",
    "from sklearn.metrics import RocCurveDisplay\n",
    "#!pip install scikit-lego\n",
    "from sklearn.neural_network import MLPClassifier\n",
    "%matplotlib inline  \n",
    "import tempfile\n",
    "import os\n",
    "import subprocess\n",
    "from warnings import warn\n",
    "# from aif360.algorithms import Transformer\n",
    "# from aif360.datasets import BinaryLabelDataset\n",
    "from sklego.metrics import p_percent_score\n",
    "\n",
    "import pandas as pd\n",
    "import numpy as np\n",
    "import matplotlib.pyplot as plt\n",
    "import os\n",
    "import sklearn\n",
    "import seaborn as sns\n",
    "import matplotlib as mpl\n",
    "from math import sqrt\n",
    "import matplotlib.ticker as ticker\n",
    "import matplotlib.cm as cm\n",
    "from sklearn.model_selection import cross_val_score\n",
    "from sklearn.linear_model import LogisticRegression\n",
    "from sklearn.naive_bayes import GaussianNB\n",
    "from sklearn.ensemble import RandomForestClassifier\n",
    "from sklearn.ensemble import VotingClassifier\n",
    "from sklearn.neighbors import KNeighborsClassifier\n",
    "from sklearn.tree import DecisionTreeClassifier\n",
    "from sklearn.svm import SVC\n",
    "from sklearn.decomposition import PCA\n",
    "from sklearn.metrics import RocCurveDisplay\n",
    "#!pip install scikit-lego\n",
    "from sklearn.neural_network import MLPClassifier\n",
    "%matplotlib inline  \n",
    "import tempfile\n",
    "import os\n",
    "import subprocess\n",
    "from warnings import warn\n",
    "\n",
    "import pandas as pd\n",
    "import numpy as np\n",
    "import matplotlib.pyplot as plt\n",
    "import os\n",
    "import sklearn\n",
    "from sklearn.preprocessing import RobustScaler\n",
    "import seaborn as sns\n",
    "from sklearn.model_selection import train_test_split\n",
    "from sklearn.linear_model import LogisticRegression\n",
    "from sklearn.metrics import classification_report\n",
    "from sklearn.metrics import confusion_matrix\n",
    "from sklearn.metrics import roc_auc_score\n",
    "from sklearn.metrics import roc_curve\n",
    "from math import sqrt\n",
    "from sklearn.cluster import KMeans\n",
    "from mpl_toolkits.mplot3d import Axes3D\n",
    "from sklearn.preprocessing import scale\n",
    "import sklearn.metrics as sm\n",
    "\n",
    "import pandas as pd\n",
    "import numpy as np\n",
    "import matplotlib.pyplot as plt\n",
    "import os\n",
    "from scipy.stats.mstats import winsorize\n",
    "from sklearn.cluster import KMeans\n",
    "from sklearn.pipeline import Pipeline\n",
    "from sklearn.preprocessing import StandardScaler\n",
    "from sklearn.preprocessing import OneHotEncoder\n",
    "from sklearn.metrics import silhouette_samples, silhouette_score\n",
    "from sklearn.model_selection import cross_validate\n",
    "from sklearn.tree import DecisionTreeRegressor\n",
    "from sklearn.model_selection import train_test_split\n",
    "from sklearn.model_selection import GridSearchCV\n",
    "from sklearn.metrics import mean_squared_error\n",
    "from sklearn.decomposition import PCA\n",
    "from sklearn.manifold import TSNE\n",
    "from numpy import linalg as LA\n"
   ]
  },
  {
   "cell_type": "markdown",
   "metadata": {},
   "source": [
    "This is a function I use to create plots. "
   ]
  },
  {
   "cell_type": "code",
   "execution_count": 19,
   "metadata": {},
   "outputs": [],
   "source": [
    "def simple_plot(X,Y,title,xlabel,ylabel):\n",
    "    plt.plot(X,Y)\n",
    "    plt.title(title)\n",
    "    plt.xlabel(xlabel)\n",
    "    plt.ylabel(ylabel)\n",
    "    plt.show()"
   ]
  },
  {
   "cell_type": "markdown",
   "metadata": {},
   "source": [
    "First I open the dataset and check how it looks. "
   ]
  },
  {
   "cell_type": "code",
   "execution_count": 20,
   "metadata": {},
   "outputs": [
    {
     "data": {
      "text/html": [
       "<div>\n",
       "<style scoped>\n",
       "    .dataframe tbody tr th:only-of-type {\n",
       "        vertical-align: middle;\n",
       "    }\n",
       "\n",
       "    .dataframe tbody tr th {\n",
       "        vertical-align: top;\n",
       "    }\n",
       "\n",
       "    .dataframe thead th {\n",
       "        text-align: right;\n",
       "    }\n",
       "</style>\n",
       "<table border=\"1\" class=\"dataframe\">\n",
       "  <thead>\n",
       "    <tr style=\"text-align: right;\">\n",
       "      <th></th>\n",
       "      <th>identifier</th>\n",
       "      <th>default</th>\n",
       "      <th>F_mobile_conter</th>\n",
       "      <th>F_phone_emper</th>\n",
       "      <th>F_phone_worker</th>\n",
       "      <th>F_phone_reached</th>\n",
       "      <th>F_phone_home</th>\n",
       "      <th>F_email</th>\n",
       "      <th>client_occupation</th>\n",
       "      <th>C_family_members</th>\n",
       "      <th>...</th>\n",
       "      <th>Unnamed: 110</th>\n",
       "      <th>Unnamed: 111</th>\n",
       "      <th>Unnamed: 112</th>\n",
       "      <th>Unnamed: 113</th>\n",
       "      <th>bureau_hour</th>\n",
       "      <th>bureau_day</th>\n",
       "      <th>bureau_week</th>\n",
       "      <th>bureau_mon</th>\n",
       "      <th>bureau_qrt</th>\n",
       "      <th>bureau_year</th>\n",
       "    </tr>\n",
       "  </thead>\n",
       "  <tbody>\n",
       "    <tr>\n",
       "      <th>0</th>\n",
       "      <td>409422</td>\n",
       "      <td>0</td>\n",
       "      <td>1</td>\n",
       "      <td>1</td>\n",
       "      <td>0</td>\n",
       "      <td>1</td>\n",
       "      <td>1</td>\n",
       "      <td>0</td>\n",
       "      <td>NaN</td>\n",
       "      <td>2.0</td>\n",
       "      <td>...</td>\n",
       "      <td>NaN</td>\n",
       "      <td>NaN</td>\n",
       "      <td>NaN</td>\n",
       "      <td>NaN</td>\n",
       "      <td>0.0</td>\n",
       "      <td>0.0</td>\n",
       "      <td>0.0</td>\n",
       "      <td>0.0</td>\n",
       "      <td>1.0</td>\n",
       "      <td>4.0</td>\n",
       "    </tr>\n",
       "    <tr>\n",
       "      <th>1</th>\n",
       "      <td>267477</td>\n",
       "      <td>0</td>\n",
       "      <td>1</td>\n",
       "      <td>1</td>\n",
       "      <td>1</td>\n",
       "      <td>1</td>\n",
       "      <td>1</td>\n",
       "      <td>0</td>\n",
       "      <td>NaN</td>\n",
       "      <td>1.0</td>\n",
       "      <td>...</td>\n",
       "      <td>NaN</td>\n",
       "      <td>NaN</td>\n",
       "      <td>NaN</td>\n",
       "      <td>NaN</td>\n",
       "      <td>0.0</td>\n",
       "      <td>0.0</td>\n",
       "      <td>0.0</td>\n",
       "      <td>0.0</td>\n",
       "      <td>0.0</td>\n",
       "      <td>0.0</td>\n",
       "    </tr>\n",
       "    <tr>\n",
       "      <th>2</th>\n",
       "      <td>308127</td>\n",
       "      <td>0</td>\n",
       "      <td>1</td>\n",
       "      <td>1</td>\n",
       "      <td>0</td>\n",
       "      <td>1</td>\n",
       "      <td>0</td>\n",
       "      <td>0</td>\n",
       "      <td>Sales staff</td>\n",
       "      <td>2.0</td>\n",
       "      <td>...</td>\n",
       "      <td>NaN</td>\n",
       "      <td>NaN</td>\n",
       "      <td>NaN</td>\n",
       "      <td>NaN</td>\n",
       "      <td>NaN</td>\n",
       "      <td>NaN</td>\n",
       "      <td>NaN</td>\n",
       "      <td>NaN</td>\n",
       "      <td>NaN</td>\n",
       "      <td>NaN</td>\n",
       "    </tr>\n",
       "    <tr>\n",
       "      <th>3</th>\n",
       "      <td>340057</td>\n",
       "      <td>0</td>\n",
       "      <td>1</td>\n",
       "      <td>1</td>\n",
       "      <td>1</td>\n",
       "      <td>1</td>\n",
       "      <td>1</td>\n",
       "      <td>0</td>\n",
       "      <td>Medicine staff</td>\n",
       "      <td>3.0</td>\n",
       "      <td>...</td>\n",
       "      <td>NaN</td>\n",
       "      <td>NaN</td>\n",
       "      <td>NaN</td>\n",
       "      <td>NaN</td>\n",
       "      <td>0.0</td>\n",
       "      <td>0.0</td>\n",
       "      <td>0.0</td>\n",
       "      <td>1.0</td>\n",
       "      <td>0.0</td>\n",
       "      <td>7.0</td>\n",
       "    </tr>\n",
       "    <tr>\n",
       "      <th>4</th>\n",
       "      <td>291404</td>\n",
       "      <td>0</td>\n",
       "      <td>1</td>\n",
       "      <td>0</td>\n",
       "      <td>0</td>\n",
       "      <td>1</td>\n",
       "      <td>0</td>\n",
       "      <td>0</td>\n",
       "      <td>NaN</td>\n",
       "      <td>1.0</td>\n",
       "      <td>...</td>\n",
       "      <td>NaN</td>\n",
       "      <td>NaN</td>\n",
       "      <td>NaN</td>\n",
       "      <td>NaN</td>\n",
       "      <td>0.0</td>\n",
       "      <td>0.0</td>\n",
       "      <td>0.0</td>\n",
       "      <td>2.0</td>\n",
       "      <td>1.0</td>\n",
       "      <td>5.0</td>\n",
       "    </tr>\n",
       "    <tr>\n",
       "      <th>...</th>\n",
       "      <td>...</td>\n",
       "      <td>...</td>\n",
       "      <td>...</td>\n",
       "      <td>...</td>\n",
       "      <td>...</td>\n",
       "      <td>...</td>\n",
       "      <td>...</td>\n",
       "      <td>...</td>\n",
       "      <td>...</td>\n",
       "      <td>...</td>\n",
       "      <td>...</td>\n",
       "      <td>...</td>\n",
       "      <td>...</td>\n",
       "      <td>...</td>\n",
       "      <td>...</td>\n",
       "      <td>...</td>\n",
       "      <td>...</td>\n",
       "      <td>...</td>\n",
       "      <td>...</td>\n",
       "      <td>...</td>\n",
       "      <td>...</td>\n",
       "    </tr>\n",
       "    <tr>\n",
       "      <th>307506</th>\n",
       "      <td>355531</td>\n",
       "      <td>0</td>\n",
       "      <td>1</td>\n",
       "      <td>1</td>\n",
       "      <td>0</td>\n",
       "      <td>1</td>\n",
       "      <td>0</td>\n",
       "      <td>0</td>\n",
       "      <td>Core staff</td>\n",
       "      <td>3.0</td>\n",
       "      <td>...</td>\n",
       "      <td>NaN</td>\n",
       "      <td>NaN</td>\n",
       "      <td>NaN</td>\n",
       "      <td>NaN</td>\n",
       "      <td>0.0</td>\n",
       "      <td>0.0</td>\n",
       "      <td>1.0</td>\n",
       "      <td>0.0</td>\n",
       "      <td>0.0</td>\n",
       "      <td>1.0</td>\n",
       "    </tr>\n",
       "    <tr>\n",
       "      <th>307507</th>\n",
       "      <td>434455</td>\n",
       "      <td>0</td>\n",
       "      <td>1</td>\n",
       "      <td>1</td>\n",
       "      <td>0</td>\n",
       "      <td>1</td>\n",
       "      <td>0</td>\n",
       "      <td>0</td>\n",
       "      <td>Medicine staff</td>\n",
       "      <td>1.0</td>\n",
       "      <td>...</td>\n",
       "      <td>NaN</td>\n",
       "      <td>NaN</td>\n",
       "      <td>NaN</td>\n",
       "      <td>NaN</td>\n",
       "      <td>0.0</td>\n",
       "      <td>0.0</td>\n",
       "      <td>0.0</td>\n",
       "      <td>0.0</td>\n",
       "      <td>0.0</td>\n",
       "      <td>0.0</td>\n",
       "    </tr>\n",
       "    <tr>\n",
       "      <th>307508</th>\n",
       "      <td>144514</td>\n",
       "      <td>1</td>\n",
       "      <td>1</td>\n",
       "      <td>0</td>\n",
       "      <td>0</td>\n",
       "      <td>1</td>\n",
       "      <td>0</td>\n",
       "      <td>0</td>\n",
       "      <td>NaN</td>\n",
       "      <td>1.0</td>\n",
       "      <td>...</td>\n",
       "      <td>NaN</td>\n",
       "      <td>NaN</td>\n",
       "      <td>NaN</td>\n",
       "      <td>NaN</td>\n",
       "      <td>0.0</td>\n",
       "      <td>0.0</td>\n",
       "      <td>0.0</td>\n",
       "      <td>0.0</td>\n",
       "      <td>0.0</td>\n",
       "      <td>2.0</td>\n",
       "    </tr>\n",
       "    <tr>\n",
       "      <th>307509</th>\n",
       "      <td>270598</td>\n",
       "      <td>0</td>\n",
       "      <td>1</td>\n",
       "      <td>0</td>\n",
       "      <td>0</td>\n",
       "      <td>1</td>\n",
       "      <td>0</td>\n",
       "      <td>0</td>\n",
       "      <td>NaN</td>\n",
       "      <td>1.0</td>\n",
       "      <td>...</td>\n",
       "      <td>NaN</td>\n",
       "      <td>NaN</td>\n",
       "      <td>NaN</td>\n",
       "      <td>NaN</td>\n",
       "      <td>0.0</td>\n",
       "      <td>0.0</td>\n",
       "      <td>0.0</td>\n",
       "      <td>0.0</td>\n",
       "      <td>0.0</td>\n",
       "      <td>3.0</td>\n",
       "    </tr>\n",
       "    <tr>\n",
       "      <th>307510</th>\n",
       "      <td>264443</td>\n",
       "      <td>0</td>\n",
       "      <td>1</td>\n",
       "      <td>1</td>\n",
       "      <td>0</td>\n",
       "      <td>1</td>\n",
       "      <td>0</td>\n",
       "      <td>0</td>\n",
       "      <td>Core staff</td>\n",
       "      <td>1.0</td>\n",
       "      <td>...</td>\n",
       "      <td>NaN</td>\n",
       "      <td>NaN</td>\n",
       "      <td>NaN</td>\n",
       "      <td>NaN</td>\n",
       "      <td>0.0</td>\n",
       "      <td>0.0</td>\n",
       "      <td>0.0</td>\n",
       "      <td>0.0</td>\n",
       "      <td>0.0</td>\n",
       "      <td>0.0</td>\n",
       "    </tr>\n",
       "  </tbody>\n",
       "</table>\n",
       "<p>307511 rows × 120 columns</p>\n",
       "</div>"
      ],
      "text/plain": [
       "        identifier  default  F_mobile_conter  F_phone_emper  F_phone_worker  \\\n",
       "0           409422        0                1              1               0   \n",
       "1           267477        0                1              1               1   \n",
       "2           308127        0                1              1               0   \n",
       "3           340057        0                1              1               1   \n",
       "4           291404        0                1              0               0   \n",
       "...            ...      ...              ...            ...             ...   \n",
       "307506      355531        0                1              1               0   \n",
       "307507      434455        0                1              1               0   \n",
       "307508      144514        1                1              0               0   \n",
       "307509      270598        0                1              0               0   \n",
       "307510      264443        0                1              1               0   \n",
       "\n",
       "        F_phone_reached  F_phone_home  F_email client_occupation  \\\n",
       "0                     1             1        0               NaN   \n",
       "1                     1             1        0               NaN   \n",
       "2                     1             0        0       Sales staff   \n",
       "3                     1             1        0    Medicine staff   \n",
       "4                     1             0        0               NaN   \n",
       "...                 ...           ...      ...               ...   \n",
       "307506                1             0        0        Core staff   \n",
       "307507                1             0        0    Medicine staff   \n",
       "307508                1             0        0               NaN   \n",
       "307509                1             0        0               NaN   \n",
       "307510                1             0        0        Core staff   \n",
       "\n",
       "        C_family_members  ...  Unnamed: 110  Unnamed: 111 Unnamed: 112  \\\n",
       "0                    2.0  ...           NaN           NaN          NaN   \n",
       "1                    1.0  ...           NaN           NaN          NaN   \n",
       "2                    2.0  ...           NaN           NaN          NaN   \n",
       "3                    3.0  ...           NaN           NaN          NaN   \n",
       "4                    1.0  ...           NaN           NaN          NaN   \n",
       "...                  ...  ...           ...           ...          ...   \n",
       "307506               3.0  ...           NaN           NaN          NaN   \n",
       "307507               1.0  ...           NaN           NaN          NaN   \n",
       "307508               1.0  ...           NaN           NaN          NaN   \n",
       "307509               1.0  ...           NaN           NaN          NaN   \n",
       "307510               1.0  ...           NaN           NaN          NaN   \n",
       "\n",
       "       Unnamed: 113 bureau_hour bureau_day bureau_week  bureau_mon  \\\n",
       "0               NaN         0.0        0.0         0.0         0.0   \n",
       "1               NaN         0.0        0.0         0.0         0.0   \n",
       "2               NaN         NaN        NaN         NaN         NaN   \n",
       "3               NaN         0.0        0.0         0.0         1.0   \n",
       "4               NaN         0.0        0.0         0.0         2.0   \n",
       "...             ...         ...        ...         ...         ...   \n",
       "307506          NaN         0.0        0.0         1.0         0.0   \n",
       "307507          NaN         0.0        0.0         0.0         0.0   \n",
       "307508          NaN         0.0        0.0         0.0         0.0   \n",
       "307509          NaN         0.0        0.0         0.0         0.0   \n",
       "307510          NaN         0.0        0.0         0.0         0.0   \n",
       "\n",
       "        bureau_qrt  bureau_year  \n",
       "0              1.0          4.0  \n",
       "1              0.0          0.0  \n",
       "2              NaN          NaN  \n",
       "3              0.0          7.0  \n",
       "4              1.0          5.0  \n",
       "...            ...          ...  \n",
       "307506         0.0          1.0  \n",
       "307507         0.0          0.0  \n",
       "307508         0.0          2.0  \n",
       "307509         0.0          3.0  \n",
       "307510         0.0          0.0  \n",
       "\n",
       "[307511 rows x 120 columns]"
      ]
     },
     "execution_count": 20,
     "metadata": {},
     "output_type": "execute_result"
    }
   ],
   "source": [
    "path = os.path.join('data','data.csv')\n",
    "\n",
    "data = pd.read_csv(path)\n",
    "data"
   ]
  },
  {
   "cell_type": "markdown",
   "metadata": {},
   "source": [
    "I created a list_features list where I stored all the variables I assumed where important. and used these to create the new DataFrame with only 25 features. I made sure 'default' is still in this list, because it allows me to inspect that column as well."
   ]
  },
  {
   "cell_type": "code",
   "execution_count": 21,
   "metadata": {},
   "outputs": [
    {
     "data": {
      "text/html": [
       "<div>\n",
       "<style scoped>\n",
       "    .dataframe tbody tr th:only-of-type {\n",
       "        vertical-align: middle;\n",
       "    }\n",
       "\n",
       "    .dataframe tbody tr th {\n",
       "        vertical-align: top;\n",
       "    }\n",
       "\n",
       "    .dataframe thead th {\n",
       "        text-align: right;\n",
       "    }\n",
       "</style>\n",
       "<table border=\"1\" class=\"dataframe\">\n",
       "  <thead>\n",
       "    <tr style=\"text-align: right;\">\n",
       "      <th></th>\n",
       "      <th>default</th>\n",
       "      <th>client occupation</th>\n",
       "      <th>C_family_members</th>\n",
       "      <th>rating client</th>\n",
       "      <th>rating client city</th>\n",
       "      <th>contract type</th>\n",
       "      <th>gender</th>\n",
       "      <th>F_car_owner</th>\n",
       "      <th>F_realty_owner</th>\n",
       "      <th>num_children</th>\n",
       "      <th>...</th>\n",
       "      <th>highest_education</th>\n",
       "      <th>family_status</th>\n",
       "      <th>type_housing</th>\n",
       "      <th>age</th>\n",
       "      <th>normalized_population_density</th>\n",
       "      <th>current_job</th>\n",
       "      <th>change_client_registration</th>\n",
       "      <th>organization_type</th>\n",
       "      <th>days_last_phone_change</th>\n",
       "      <th>change_client_identity</th>\n",
       "    </tr>\n",
       "  </thead>\n",
       "  <tbody>\n",
       "    <tr>\n",
       "      <th>0</th>\n",
       "      <td>0</td>\n",
       "      <td>NaN</td>\n",
       "      <td>2.0</td>\n",
       "      <td>NaN</td>\n",
       "      <td>NaN</td>\n",
       "      <td>NaN</td>\n",
       "      <td>M</td>\n",
       "      <td>Y</td>\n",
       "      <td>Y</td>\n",
       "      <td>0</td>\n",
       "      <td>...</td>\n",
       "      <td>Secondary / secondary special</td>\n",
       "      <td>Married</td>\n",
       "      <td>House / apartment</td>\n",
       "      <td>-17172</td>\n",
       "      <td>0.015221</td>\n",
       "      <td>-75</td>\n",
       "      <td>-9533.0</td>\n",
       "      <td>Business Entity Type 3</td>\n",
       "      <td>-491.0</td>\n",
       "      <td>-714</td>\n",
       "    </tr>\n",
       "    <tr>\n",
       "      <th>1</th>\n",
       "      <td>0</td>\n",
       "      <td>NaN</td>\n",
       "      <td>1.0</td>\n",
       "      <td>NaN</td>\n",
       "      <td>NaN</td>\n",
       "      <td>NaN</td>\n",
       "      <td>M</td>\n",
       "      <td>N</td>\n",
       "      <td>Y</td>\n",
       "      <td>0</td>\n",
       "      <td>...</td>\n",
       "      <td>Secondary / secondary special</td>\n",
       "      <td>Single / not married</td>\n",
       "      <td>House / apartment</td>\n",
       "      <td>-19793</td>\n",
       "      <td>0.019689</td>\n",
       "      <td>-817</td>\n",
       "      <td>-9992.0</td>\n",
       "      <td>Business Entity Type 2</td>\n",
       "      <td>0.0</td>\n",
       "      <td>-3205</td>\n",
       "    </tr>\n",
       "    <tr>\n",
       "      <th>2</th>\n",
       "      <td>0</td>\n",
       "      <td>NaN</td>\n",
       "      <td>2.0</td>\n",
       "      <td>NaN</td>\n",
       "      <td>NaN</td>\n",
       "      <td>NaN</td>\n",
       "      <td>F</td>\n",
       "      <td>N</td>\n",
       "      <td>N</td>\n",
       "      <td>0</td>\n",
       "      <td>...</td>\n",
       "      <td>Secondary / secondary special</td>\n",
       "      <td>Civil marriage</td>\n",
       "      <td>House / apartment</td>\n",
       "      <td>-10167</td>\n",
       "      <td>0.018029</td>\n",
       "      <td>-482</td>\n",
       "      <td>-3296.0</td>\n",
       "      <td>Trade: type 7</td>\n",
       "      <td>0.0</td>\n",
       "      <td>-2479</td>\n",
       "    </tr>\n",
       "    <tr>\n",
       "      <th>3</th>\n",
       "      <td>0</td>\n",
       "      <td>NaN</td>\n",
       "      <td>3.0</td>\n",
       "      <td>NaN</td>\n",
       "      <td>NaN</td>\n",
       "      <td>NaN</td>\n",
       "      <td>F</td>\n",
       "      <td>Y</td>\n",
       "      <td>N</td>\n",
       "      <td>1</td>\n",
       "      <td>...</td>\n",
       "      <td>Secondary / secondary special</td>\n",
       "      <td>Married</td>\n",
       "      <td>House / apartment</td>\n",
       "      <td>-10232</td>\n",
       "      <td>0.035792</td>\n",
       "      <td>-3272</td>\n",
       "      <td>-4867.0</td>\n",
       "      <td>Other</td>\n",
       "      <td>-740.0</td>\n",
       "      <td>-2906</td>\n",
       "    </tr>\n",
       "    <tr>\n",
       "      <th>4</th>\n",
       "      <td>0</td>\n",
       "      <td>NaN</td>\n",
       "      <td>1.0</td>\n",
       "      <td>NaN</td>\n",
       "      <td>NaN</td>\n",
       "      <td>NaN</td>\n",
       "      <td>F</td>\n",
       "      <td>N</td>\n",
       "      <td>Y</td>\n",
       "      <td>0</td>\n",
       "      <td>...</td>\n",
       "      <td>Secondary / secondary special</td>\n",
       "      <td>Single / not married</td>\n",
       "      <td>House / apartment</td>\n",
       "      <td>-20538</td>\n",
       "      <td>0.032561</td>\n",
       "      <td>365243</td>\n",
       "      <td>-9055.0</td>\n",
       "      <td>XNA</td>\n",
       "      <td>-696.0</td>\n",
       "      <td>-4068</td>\n",
       "    </tr>\n",
       "    <tr>\n",
       "      <th>...</th>\n",
       "      <td>...</td>\n",
       "      <td>...</td>\n",
       "      <td>...</td>\n",
       "      <td>...</td>\n",
       "      <td>...</td>\n",
       "      <td>...</td>\n",
       "      <td>...</td>\n",
       "      <td>...</td>\n",
       "      <td>...</td>\n",
       "      <td>...</td>\n",
       "      <td>...</td>\n",
       "      <td>...</td>\n",
       "      <td>...</td>\n",
       "      <td>...</td>\n",
       "      <td>...</td>\n",
       "      <td>...</td>\n",
       "      <td>...</td>\n",
       "      <td>...</td>\n",
       "      <td>...</td>\n",
       "      <td>...</td>\n",
       "      <td>...</td>\n",
       "    </tr>\n",
       "    <tr>\n",
       "      <th>307506</th>\n",
       "      <td>0</td>\n",
       "      <td>NaN</td>\n",
       "      <td>3.0</td>\n",
       "      <td>NaN</td>\n",
       "      <td>NaN</td>\n",
       "      <td>NaN</td>\n",
       "      <td>F</td>\n",
       "      <td>N</td>\n",
       "      <td>Y</td>\n",
       "      <td>1</td>\n",
       "      <td>...</td>\n",
       "      <td>Secondary / secondary special</td>\n",
       "      <td>Married</td>\n",
       "      <td>House / apartment</td>\n",
       "      <td>-12320</td>\n",
       "      <td>0.028663</td>\n",
       "      <td>-3720</td>\n",
       "      <td>-1428.0</td>\n",
       "      <td>Kindergarten</td>\n",
       "      <td>0.0</td>\n",
       "      <td>-3313</td>\n",
       "    </tr>\n",
       "    <tr>\n",
       "      <th>307507</th>\n",
       "      <td>0</td>\n",
       "      <td>NaN</td>\n",
       "      <td>1.0</td>\n",
       "      <td>NaN</td>\n",
       "      <td>NaN</td>\n",
       "      <td>NaN</td>\n",
       "      <td>F</td>\n",
       "      <td>N</td>\n",
       "      <td>Y</td>\n",
       "      <td>0</td>\n",
       "      <td>...</td>\n",
       "      <td>Secondary / secondary special</td>\n",
       "      <td>Separated</td>\n",
       "      <td>House / apartment</td>\n",
       "      <td>-22034</td>\n",
       "      <td>0.010147</td>\n",
       "      <td>-1800</td>\n",
       "      <td>-9653.0</td>\n",
       "      <td>Government</td>\n",
       "      <td>-1526.0</td>\n",
       "      <td>-4470</td>\n",
       "    </tr>\n",
       "    <tr>\n",
       "      <th>307508</th>\n",
       "      <td>1</td>\n",
       "      <td>NaN</td>\n",
       "      <td>1.0</td>\n",
       "      <td>NaN</td>\n",
       "      <td>NaN</td>\n",
       "      <td>NaN</td>\n",
       "      <td>F</td>\n",
       "      <td>N</td>\n",
       "      <td>Y</td>\n",
       "      <td>0</td>\n",
       "      <td>...</td>\n",
       "      <td>Secondary / secondary special</td>\n",
       "      <td>Widow</td>\n",
       "      <td>House / apartment</td>\n",
       "      <td>-20596</td>\n",
       "      <td>0.025164</td>\n",
       "      <td>365243</td>\n",
       "      <td>-2995.0</td>\n",
       "      <td>XNA</td>\n",
       "      <td>-435.0</td>\n",
       "      <td>-2288</td>\n",
       "    </tr>\n",
       "    <tr>\n",
       "      <th>307509</th>\n",
       "      <td>0</td>\n",
       "      <td>NaN</td>\n",
       "      <td>1.0</td>\n",
       "      <td>NaN</td>\n",
       "      <td>NaN</td>\n",
       "      <td>NaN</td>\n",
       "      <td>F</td>\n",
       "      <td>N</td>\n",
       "      <td>Y</td>\n",
       "      <td>0</td>\n",
       "      <td>...</td>\n",
       "      <td>Secondary / secondary special</td>\n",
       "      <td>Single / not married</td>\n",
       "      <td>House / apartment</td>\n",
       "      <td>-22647</td>\n",
       "      <td>0.019101</td>\n",
       "      <td>365243</td>\n",
       "      <td>-1901.0</td>\n",
       "      <td>XNA</td>\n",
       "      <td>0.0</td>\n",
       "      <td>-4721</td>\n",
       "    </tr>\n",
       "    <tr>\n",
       "      <th>307510</th>\n",
       "      <td>0</td>\n",
       "      <td>NaN</td>\n",
       "      <td>1.0</td>\n",
       "      <td>NaN</td>\n",
       "      <td>NaN</td>\n",
       "      <td>NaN</td>\n",
       "      <td>F</td>\n",
       "      <td>N</td>\n",
       "      <td>Y</td>\n",
       "      <td>0</td>\n",
       "      <td>...</td>\n",
       "      <td>Secondary / secondary special</td>\n",
       "      <td>Single / not married</td>\n",
       "      <td>House / apartment</td>\n",
       "      <td>-20037</td>\n",
       "      <td>0.025164</td>\n",
       "      <td>-11050</td>\n",
       "      <td>-8847.0</td>\n",
       "      <td>Kindergarten</td>\n",
       "      <td>-741.0</td>\n",
       "      <td>-3561</td>\n",
       "    </tr>\n",
       "  </tbody>\n",
       "</table>\n",
       "<p>307511 rows × 26 columns</p>\n",
       "</div>"
      ],
      "text/plain": [
       "        default  client occupation  C_family_members  rating client  \\\n",
       "0             0                NaN               2.0            NaN   \n",
       "1             0                NaN               1.0            NaN   \n",
       "2             0                NaN               2.0            NaN   \n",
       "3             0                NaN               3.0            NaN   \n",
       "4             0                NaN               1.0            NaN   \n",
       "...         ...                ...               ...            ...   \n",
       "307506        0                NaN               3.0            NaN   \n",
       "307507        0                NaN               1.0            NaN   \n",
       "307508        1                NaN               1.0            NaN   \n",
       "307509        0                NaN               1.0            NaN   \n",
       "307510        0                NaN               1.0            NaN   \n",
       "\n",
       "        rating client city  contract type gender F_car_owner F_realty_owner  \\\n",
       "0                      NaN            NaN      M           Y              Y   \n",
       "1                      NaN            NaN      M           N              Y   \n",
       "2                      NaN            NaN      F           N              N   \n",
       "3                      NaN            NaN      F           Y              N   \n",
       "4                      NaN            NaN      F           N              Y   \n",
       "...                    ...            ...    ...         ...            ...   \n",
       "307506                 NaN            NaN      F           N              Y   \n",
       "307507                 NaN            NaN      F           N              Y   \n",
       "307508                 NaN            NaN      F           N              Y   \n",
       "307509                 NaN            NaN      F           N              Y   \n",
       "307510                 NaN            NaN      F           N              Y   \n",
       "\n",
       "        num_children  ...              highest_education  \\\n",
       "0                  0  ...  Secondary / secondary special   \n",
       "1                  0  ...  Secondary / secondary special   \n",
       "2                  0  ...  Secondary / secondary special   \n",
       "3                  1  ...  Secondary / secondary special   \n",
       "4                  0  ...  Secondary / secondary special   \n",
       "...              ...  ...                            ...   \n",
       "307506             1  ...  Secondary / secondary special   \n",
       "307507             0  ...  Secondary / secondary special   \n",
       "307508             0  ...  Secondary / secondary special   \n",
       "307509             0  ...  Secondary / secondary special   \n",
       "307510             0  ...  Secondary / secondary special   \n",
       "\n",
       "               family_status       type_housing    age  \\\n",
       "0                    Married  House / apartment -17172   \n",
       "1       Single / not married  House / apartment -19793   \n",
       "2             Civil marriage  House / apartment -10167   \n",
       "3                    Married  House / apartment -10232   \n",
       "4       Single / not married  House / apartment -20538   \n",
       "...                      ...                ...    ...   \n",
       "307506               Married  House / apartment -12320   \n",
       "307507             Separated  House / apartment -22034   \n",
       "307508                 Widow  House / apartment -20596   \n",
       "307509  Single / not married  House / apartment -22647   \n",
       "307510  Single / not married  House / apartment -20037   \n",
       "\n",
       "       normalized_population_density current_job change_client_registration  \\\n",
       "0                           0.015221         -75                    -9533.0   \n",
       "1                           0.019689        -817                    -9992.0   \n",
       "2                           0.018029        -482                    -3296.0   \n",
       "3                           0.035792       -3272                    -4867.0   \n",
       "4                           0.032561      365243                    -9055.0   \n",
       "...                              ...         ...                        ...   \n",
       "307506                      0.028663       -3720                    -1428.0   \n",
       "307507                      0.010147       -1800                    -9653.0   \n",
       "307508                      0.025164      365243                    -2995.0   \n",
       "307509                      0.019101      365243                    -1901.0   \n",
       "307510                      0.025164      -11050                    -8847.0   \n",
       "\n",
       "             organization_type days_last_phone_change  change_client_identity  \n",
       "0       Business Entity Type 3                 -491.0                    -714  \n",
       "1       Business Entity Type 2                    0.0                   -3205  \n",
       "2                Trade: type 7                    0.0                   -2479  \n",
       "3                        Other                 -740.0                   -2906  \n",
       "4                          XNA                 -696.0                   -4068  \n",
       "...                        ...                    ...                     ...  \n",
       "307506            Kindergarten                    0.0                   -3313  \n",
       "307507              Government                -1526.0                   -4470  \n",
       "307508                     XNA                 -435.0                   -2288  \n",
       "307509                     XNA                    0.0                   -4721  \n",
       "307510            Kindergarten                 -741.0                   -3561  \n",
       "\n",
       "[307511 rows x 26 columns]"
      ]
     },
     "execution_count": 21,
     "metadata": {},
     "output_type": "execute_result"
    }
   ],
   "source": [
    "innitial_list_features = ['default','client occupation','C_family_members','rating client','rating client city','contract type','gender' ,'F_car_owner','F_realty_owner','num_children','income','mortgage','annuity','goods_price','client_vouching','income_type','highest_education','family_status','type_housing','age','normalized_population_density','current_job','change_client_registration','organization_type','days_last_phone_change','change_client_identity']\n",
    "df_data = pd.DataFrame(data, columns=innitial_list_features)\n",
    "df_data"
   ]
  },
  {
   "cell_type": "markdown",
   "metadata": {
    "id": "6UyCsQbXW5gh"
   },
   "source": [
    "\n",
    "**b)**\n",
    "Next, use the methods discussed in the assignments to pre-process the new dataset you constructed in the question **1a.** Make some descriptive statistics, histograms etc to find out more about the distributions of the data. Are there NaNs, outliers etc? Then choose what preprocessing to apply and clearly explain your choices."
   ]
  },
  {
   "cell_type": "markdown",
   "metadata": {
    "id": "lVLnyTw2W5gi"
   },
   "source": [
    "<div style=\"color:blue; border-bottom: 7px solid rgba(0,0,255,.3); line-height:36pt; font-size:165.7%; font-weight:bold; padding-left:.3em;\">Answer</div>"
   ]
  },
  {
   "cell_type": "markdown",
   "metadata": {
    "id": "G-8uaQShW5gj"
   },
   "source": [
    "First I make descriptive statistics to see what the data looks like. I start by looking at the dtypes of the variables to discover if there are numerical columns that got classified as an object. By doing this I found out that client occupation was only NaN's, so I removed it. After that I desribed the dataset."
   ]
  },
  {
   "cell_type": "code",
   "execution_count": 22,
   "metadata": {},
   "outputs": [
    {
     "data": {
      "text/html": [
       "<div>\n",
       "<style scoped>\n",
       "    .dataframe tbody tr th:only-of-type {\n",
       "        vertical-align: middle;\n",
       "    }\n",
       "\n",
       "    .dataframe tbody tr th {\n",
       "        vertical-align: top;\n",
       "    }\n",
       "\n",
       "    .dataframe thead th {\n",
       "        text-align: right;\n",
       "    }\n",
       "</style>\n",
       "<table border=\"1\" class=\"dataframe\">\n",
       "  <thead>\n",
       "    <tr style=\"text-align: right;\">\n",
       "      <th></th>\n",
       "      <th>default</th>\n",
       "      <th>client occupation</th>\n",
       "      <th>C_family_members</th>\n",
       "      <th>rating client</th>\n",
       "      <th>rating client city</th>\n",
       "      <th>contract type</th>\n",
       "      <th>num_children</th>\n",
       "      <th>income</th>\n",
       "      <th>mortgage</th>\n",
       "      <th>annuity</th>\n",
       "      <th>goods_price</th>\n",
       "      <th>age</th>\n",
       "      <th>normalized_population_density</th>\n",
       "      <th>current_job</th>\n",
       "      <th>change_client_registration</th>\n",
       "      <th>days_last_phone_change</th>\n",
       "      <th>change_client_identity</th>\n",
       "    </tr>\n",
       "  </thead>\n",
       "  <tbody>\n",
       "    <tr>\n",
       "      <th>count</th>\n",
       "      <td>307511.000000</td>\n",
       "      <td>0.0</td>\n",
       "      <td>307509.000000</td>\n",
       "      <td>0.0</td>\n",
       "      <td>0.0</td>\n",
       "      <td>0.0</td>\n",
       "      <td>307511.000000</td>\n",
       "      <td>3.075110e+05</td>\n",
       "      <td>3.075110e+05</td>\n",
       "      <td>307499.000000</td>\n",
       "      <td>3.072330e+05</td>\n",
       "      <td>307511.000000</td>\n",
       "      <td>307511.000000</td>\n",
       "      <td>307511.000000</td>\n",
       "      <td>307511.000000</td>\n",
       "      <td>307510.000000</td>\n",
       "      <td>307511.000000</td>\n",
       "    </tr>\n",
       "    <tr>\n",
       "      <th>mean</th>\n",
       "      <td>0.080729</td>\n",
       "      <td>NaN</td>\n",
       "      <td>2.152665</td>\n",
       "      <td>NaN</td>\n",
       "      <td>NaN</td>\n",
       "      <td>NaN</td>\n",
       "      <td>0.417052</td>\n",
       "      <td>1.687979e+05</td>\n",
       "      <td>5.990260e+05</td>\n",
       "      <td>27108.573909</td>\n",
       "      <td>5.383962e+05</td>\n",
       "      <td>-16036.995067</td>\n",
       "      <td>0.020868</td>\n",
       "      <td>63815.045904</td>\n",
       "      <td>-4986.120328</td>\n",
       "      <td>-962.858788</td>\n",
       "      <td>-2994.202373</td>\n",
       "    </tr>\n",
       "    <tr>\n",
       "      <th>std</th>\n",
       "      <td>0.272419</td>\n",
       "      <td>NaN</td>\n",
       "      <td>0.910682</td>\n",
       "      <td>NaN</td>\n",
       "      <td>NaN</td>\n",
       "      <td>NaN</td>\n",
       "      <td>0.722121</td>\n",
       "      <td>2.371231e+05</td>\n",
       "      <td>4.024908e+05</td>\n",
       "      <td>14493.737315</td>\n",
       "      <td>3.694465e+05</td>\n",
       "      <td>4363.988632</td>\n",
       "      <td>0.013831</td>\n",
       "      <td>141275.766519</td>\n",
       "      <td>3522.886321</td>\n",
       "      <td>826.808487</td>\n",
       "      <td>1509.450419</td>\n",
       "    </tr>\n",
       "    <tr>\n",
       "      <th>min</th>\n",
       "      <td>0.000000</td>\n",
       "      <td>NaN</td>\n",
       "      <td>1.000000</td>\n",
       "      <td>NaN</td>\n",
       "      <td>NaN</td>\n",
       "      <td>NaN</td>\n",
       "      <td>0.000000</td>\n",
       "      <td>2.565000e+04</td>\n",
       "      <td>4.500000e+04</td>\n",
       "      <td>1615.500000</td>\n",
       "      <td>4.050000e+04</td>\n",
       "      <td>-25229.000000</td>\n",
       "      <td>0.000290</td>\n",
       "      <td>-17912.000000</td>\n",
       "      <td>-24672.000000</td>\n",
       "      <td>-4292.000000</td>\n",
       "      <td>-7197.000000</td>\n",
       "    </tr>\n",
       "    <tr>\n",
       "      <th>25%</th>\n",
       "      <td>0.000000</td>\n",
       "      <td>NaN</td>\n",
       "      <td>2.000000</td>\n",
       "      <td>NaN</td>\n",
       "      <td>NaN</td>\n",
       "      <td>NaN</td>\n",
       "      <td>0.000000</td>\n",
       "      <td>1.125000e+05</td>\n",
       "      <td>2.700000e+05</td>\n",
       "      <td>16524.000000</td>\n",
       "      <td>2.385000e+05</td>\n",
       "      <td>-19682.000000</td>\n",
       "      <td>0.010006</td>\n",
       "      <td>-2760.000000</td>\n",
       "      <td>-7479.500000</td>\n",
       "      <td>-1570.000000</td>\n",
       "      <td>-4299.000000</td>\n",
       "    </tr>\n",
       "    <tr>\n",
       "      <th>50%</th>\n",
       "      <td>0.000000</td>\n",
       "      <td>NaN</td>\n",
       "      <td>2.000000</td>\n",
       "      <td>NaN</td>\n",
       "      <td>NaN</td>\n",
       "      <td>NaN</td>\n",
       "      <td>0.000000</td>\n",
       "      <td>1.471500e+05</td>\n",
       "      <td>5.135310e+05</td>\n",
       "      <td>24903.000000</td>\n",
       "      <td>4.500000e+05</td>\n",
       "      <td>-15750.000000</td>\n",
       "      <td>0.018850</td>\n",
       "      <td>-1213.000000</td>\n",
       "      <td>-4504.000000</td>\n",
       "      <td>-757.000000</td>\n",
       "      <td>-3254.000000</td>\n",
       "    </tr>\n",
       "    <tr>\n",
       "      <th>75%</th>\n",
       "      <td>0.000000</td>\n",
       "      <td>NaN</td>\n",
       "      <td>3.000000</td>\n",
       "      <td>NaN</td>\n",
       "      <td>NaN</td>\n",
       "      <td>NaN</td>\n",
       "      <td>1.000000</td>\n",
       "      <td>2.025000e+05</td>\n",
       "      <td>8.086500e+05</td>\n",
       "      <td>34596.000000</td>\n",
       "      <td>6.795000e+05</td>\n",
       "      <td>-12413.000000</td>\n",
       "      <td>0.028663</td>\n",
       "      <td>-289.000000</td>\n",
       "      <td>-2010.000000</td>\n",
       "      <td>-274.000000</td>\n",
       "      <td>-1720.000000</td>\n",
       "    </tr>\n",
       "    <tr>\n",
       "      <th>max</th>\n",
       "      <td>1.000000</td>\n",
       "      <td>NaN</td>\n",
       "      <td>20.000000</td>\n",
       "      <td>NaN</td>\n",
       "      <td>NaN</td>\n",
       "      <td>NaN</td>\n",
       "      <td>19.000000</td>\n",
       "      <td>1.170000e+08</td>\n",
       "      <td>4.050000e+06</td>\n",
       "      <td>258025.500000</td>\n",
       "      <td>4.050000e+06</td>\n",
       "      <td>-7489.000000</td>\n",
       "      <td>0.072508</td>\n",
       "      <td>365243.000000</td>\n",
       "      <td>0.000000</td>\n",
       "      <td>0.000000</td>\n",
       "      <td>0.000000</td>\n",
       "    </tr>\n",
       "  </tbody>\n",
       "</table>\n",
       "</div>"
      ],
      "text/plain": [
       "             default  client occupation  C_family_members  rating client  \\\n",
       "count  307511.000000                0.0     307509.000000            0.0   \n",
       "mean        0.080729                NaN          2.152665            NaN   \n",
       "std         0.272419                NaN          0.910682            NaN   \n",
       "min         0.000000                NaN          1.000000            NaN   \n",
       "25%         0.000000                NaN          2.000000            NaN   \n",
       "50%         0.000000                NaN          2.000000            NaN   \n",
       "75%         0.000000                NaN          3.000000            NaN   \n",
       "max         1.000000                NaN         20.000000            NaN   \n",
       "\n",
       "       rating client city  contract type   num_children        income  \\\n",
       "count                 0.0            0.0  307511.000000  3.075110e+05   \n",
       "mean                  NaN            NaN       0.417052  1.687979e+05   \n",
       "std                   NaN            NaN       0.722121  2.371231e+05   \n",
       "min                   NaN            NaN       0.000000  2.565000e+04   \n",
       "25%                   NaN            NaN       0.000000  1.125000e+05   \n",
       "50%                   NaN            NaN       0.000000  1.471500e+05   \n",
       "75%                   NaN            NaN       1.000000  2.025000e+05   \n",
       "max                   NaN            NaN      19.000000  1.170000e+08   \n",
       "\n",
       "           mortgage        annuity   goods_price            age  \\\n",
       "count  3.075110e+05  307499.000000  3.072330e+05  307511.000000   \n",
       "mean   5.990260e+05   27108.573909  5.383962e+05  -16036.995067   \n",
       "std    4.024908e+05   14493.737315  3.694465e+05    4363.988632   \n",
       "min    4.500000e+04    1615.500000  4.050000e+04  -25229.000000   \n",
       "25%    2.700000e+05   16524.000000  2.385000e+05  -19682.000000   \n",
       "50%    5.135310e+05   24903.000000  4.500000e+05  -15750.000000   \n",
       "75%    8.086500e+05   34596.000000  6.795000e+05  -12413.000000   \n",
       "max    4.050000e+06  258025.500000  4.050000e+06   -7489.000000   \n",
       "\n",
       "       normalized_population_density    current_job  \\\n",
       "count                  307511.000000  307511.000000   \n",
       "mean                        0.020868   63815.045904   \n",
       "std                         0.013831  141275.766519   \n",
       "min                         0.000290  -17912.000000   \n",
       "25%                         0.010006   -2760.000000   \n",
       "50%                         0.018850   -1213.000000   \n",
       "75%                         0.028663    -289.000000   \n",
       "max                         0.072508  365243.000000   \n",
       "\n",
       "       change_client_registration  days_last_phone_change  \\\n",
       "count               307511.000000           307510.000000   \n",
       "mean                 -4986.120328             -962.858788   \n",
       "std                   3522.886321              826.808487   \n",
       "min                 -24672.000000            -4292.000000   \n",
       "25%                  -7479.500000            -1570.000000   \n",
       "50%                  -4504.000000             -757.000000   \n",
       "75%                  -2010.000000             -274.000000   \n",
       "max                      0.000000                0.000000   \n",
       "\n",
       "       change_client_identity  \n",
       "count           307511.000000  \n",
       "mean             -2994.202373  \n",
       "std               1509.450419  \n",
       "min              -7197.000000  \n",
       "25%              -4299.000000  \n",
       "50%              -3254.000000  \n",
       "75%              -1720.000000  \n",
       "max                  0.000000  "
      ]
     },
     "execution_count": 22,
     "metadata": {},
     "output_type": "execute_result"
    }
   ],
   "source": [
    "df_data.describe()"
   ]
  },
  {
   "cell_type": "markdown",
   "metadata": {},
   "source": [
    "From the description table it becomes clear that 'rating client', 'rating client city' and 'contract type' are NAN values only, so I remove these as well.\t\n",
    "Then it becomes clear that almost every column has missing values. Which will be corrected after looking at the distributions of the data. \n",
    "The last step right here is that I look at the number of unique values for the categorial variables. I would remove the variables where the number of classifications is too high (>100) or too low (<2) I remove them. This however was not necessary."
   ]
  },
  {
   "cell_type": "code",
   "execution_count": 23,
   "metadata": {},
   "outputs": [],
   "source": [
    "nan_features = ['client occupation','rating client', 'rating client city', 'contract type', 'current_job']\n",
    "df_data.drop(nan_features, inplace=True, axis=1)"
   ]
  },
  {
   "cell_type": "markdown",
   "metadata": {},
   "source": [
    "Before looking at the distributions, I will split the dataset in one with the target and one with the features. "
   ]
  },
  {
   "cell_type": "code",
   "execution_count": 24,
   "metadata": {},
   "outputs": [],
   "source": [
    "target_name = 'default'\n",
    "\n",
    "# `sr_` prefix stands for a pandas Series\n",
    "sr_target = pd.DataFrame(df_data.loc[:,target_name].copy())\n",
    "\n",
    "# The features are considered all the dataframe variables \n",
    "# excluding 'default'\n",
    "sr_features = df_data.iloc[:,1:].copy()"
   ]
  },
  {
   "cell_type": "markdown",
   "metadata": {},
   "source": [
    "#### Distribution analysis of target and features"
   ]
  },
  {
   "cell_type": "code",
   "execution_count": 25,
   "metadata": {},
   "outputs": [
    {
     "data": {
      "image/png": "[encoded data removed]",
      "text/plain": [
       "<Figure size 1800x1440 with 12 Axes>"
      ]
     },
     "metadata": {
      "needs_background": "light"
     },
     "output_type": "display_data"
    }
   ],
   "source": [
    "sr_features.hist(bins=50, figsize=(25, 20))\n",
    "plt.tight_layout()   "
   ]
  },
  {
   "cell_type": "markdown",
   "metadata": {},
   "source": [
    "In the colomn 'days_last_phone_change' it seems that 0 is recored  alot of times and I chose to replace the 0's in this column by NaN values.\n",
    "\n",
    "'age', and the three change variables seem to be counting days, the original values are negative but I make them positive to read them more easily.\n",
    "\n",
    "I also log transform the variables with large numbers so that they become more comparable to the other variables before standardization. I make sure to replace the negative infinite values by NaN values. \n",
    "\n",
    "I create dummy variables for every category variable. \n",
    "\n",
    "When looking at the histograms it becomes clear that there are many variables with outliers. I deal with these outliers by standardizing using the Robust Scaler form Scikit learn. After doing this I clip the data so that the values do not surpass -4 or 4. Doing this removes all the ouliers outside 0.01% and 99.99% of the distribution and impute NaN values for it."
   ]
  },
  {
   "cell_type": "code",
   "execution_count": 26,
   "metadata": {},
   "outputs": [],
   "source": [
    "sr_features['days_last_phone_change'] = sr_features['days_last_phone_change'].replace(0.0, np.nan)"
   ]
  },
  {
   "cell_type": "code",
   "execution_count": 27,
   "metadata": {},
   "outputs": [],
   "source": [
    "list_absolute= ['change_client_identity','days_last_phone_change','change_client_registration','age']\n",
    "for i in list_absolute:\n",
    "    sr_features[i] = sr_features[i].abs()"
   ]
  },
  {
   "cell_type": "code",
   "execution_count": 28,
   "metadata": {},
   "outputs": [
    {
     "name": "stderr",
     "output_type": "stream",
     "text": [
      "C:\\Users\\david\\AppData\\Local\\Packages\\PythonSoftwareFoundation.Python.3.9_qbz5n2kfra8p0\\LocalCache\\local-packages\\Python39\\site-packages\\pandas\\core\\arraylike.py:364: RuntimeWarning: divide by zero encountered in log\n",
      "  result = getattr(ufunc, method)(*inputs, **kwargs)\n"
     ]
    }
   ],
   "source": [
    "list_logtransform = ['income', 'mortgage', 'change_client_identity', 'days_last_phone_change', 'change_client_registration', 'age', 'goods_price', 'annuity']\n",
    "for i in list_logtransform: \n",
    "    sr_features[i] = np.log(sr_features[i]).replace(-np.inf, np.nan)"
   ]
  },
  {
   "cell_type": "code",
   "execution_count": 29,
   "metadata": {},
   "outputs": [],
   "source": [
    "\n",
    "# Create dummy features for every category.\n",
    "list_categories = ['gender','F_car_owner','F_realty_owner','client_vouching','income_type', 'highest_education', 'family_status','type_housing','organization_type'] \n",
    "sr_features.replace('XNA', np.nan, inplace=True)\n",
    "sr_features = pd.get_dummies(sr_features, columns = list_categories, drop_first=True)"
   ]
  },
  {
   "cell_type": "code",
   "execution_count": 30,
   "metadata": {},
   "outputs": [],
   "source": [
    "remove_outliers = 4\n",
    "\n",
    "sr_features_std = sr_features.copy()\n",
    "sr_target_std = sr_target.copy()\n",
    "#Standardize using RobustScaler\n",
    "sr_features_std[sr_features_std.columns] = RobustScaler().fit_transform(sr_features_std[sr_features_std.columns])\n",
    "sr_target_std = RobustScaler().fit_transform(sr_target_std)\n",
    "\n",
    "#Convert values in the dataframe with a z-score < -4 or > 4 to NaN\n",
    "sr_features_std[(sr_features_std < -remove_outliers) | (sr_features_std > remove_outliers)] = np.nan"
   ]
  },
  {
   "cell_type": "code",
   "execution_count": 31,
   "metadata": {},
   "outputs": [
    {
     "data": {
      "image/png": "[encoded data removed]",
      "text/plain": [
       "<Figure size 1800x1440 with 100 Axes>"
      ]
     },
     "metadata": {
      "needs_background": "light"
     },
     "output_type": "display_data"
    }
   ],
   "source": [
    "sr_features_std.hist(bins=50, figsize=(25, 20))\n",
    "plt.tight_layout()   \n",
    "\n",
    "plt.suptitle('Histograms of pre-processed features', x=0.5, y=1.05, ha='center', fontsize='45')\n",
    "plt.show()"
   ]
  },
  {
   "cell_type": "markdown",
   "metadata": {},
   "source": [
    "Lastly, I impute the mean for values where I have NaN values."
   ]
  },
  {
   "cell_type": "code",
   "execution_count": 32,
   "metadata": {},
   "outputs": [],
   "source": [
    "sr_features_std = sr_features_std.fillna(sr_features_std.mean())\n"
   ]
  },
  {
   "cell_type": "markdown",
   "metadata": {
    "id": "TNg8RssrLgyw"
   },
   "source": [
    "# Question 2 [20P]\n",
    "\n",
    "In this question you will make predictions with a voting classifier.\n",
    "\n",
    "**a)**\n",
    "Predict loan default using an voting classifier. There should be at least 5 individual models in your voting classifier although you can use more. Note that in this setting the same method with different hyperparameters counts as a different model. Hint: in selecting your models think about why you would want to estimate an voting classifier in the first place (see also question 2.b). "
   ]
  },
  {
   "cell_type": "markdown",
   "metadata": {
    "id": "B2Jxil0BW5gk"
   },
   "source": [
    "<div style=\"color:blue; border-bottom: 7px solid rgba(0,0,255,.3); line-height:36pt; font-size:165.7%; font-weight:bold; padding-left:.3em;\">Answer</div>"
   ]
  },
  {
   "cell_type": "markdown",
   "metadata": {},
   "source": [
    "By trial and error I found that using PCA on the sr_features_std dataset drastically improved the naive Bayes predictor."
   ]
  },
  {
   "cell_type": "code",
   "execution_count": 33,
   "metadata": {},
   "outputs": [
    {
     "name": "stdout",
     "output_type": "stream",
     "text": [
      "Accuracy: 0.91927 (+/- 0.00000) [Logistic Regression]\n",
      "Accuracy: 0.91927 (+/- 0.00001) [Random Forest]\n",
      "Accuracy: 0.91927 (+/- 0.00000) [naive Bayes]\n",
      "Accuracy: 0.91927 (+/- 0.00000) [Random Forest 2]\n",
      "Accuracy: 0.84954 (+/- 0.00135) [Decision Tree]\n",
      "Accuracy: 0.91927 (+/- 0.00000) [Ensemble soft]\n"
     ]
    }
   ],
   "source": [
    "NUMBER_COMPONENTS = 2\n",
    "\n",
    "pca = PCA(n_components=NUMBER_COMPONENTS)\n",
    "X_pca = pca.fit_transform(sr_features_std)\n",
    "\n",
    "X, y = X_pca, sr_target_std.ravel()\n",
    "\n",
    "clf1 = LogisticRegression(random_state=1, solver='sag') #Use sag so convergance is possible.\n",
    "clf2 = RandomForestClassifier(n_estimators=50, random_state=1,verbose=0,max_depth=12)\n",
    "clf3 = GaussianNB()\n",
    "clf4 = RandomForestClassifier(n_estimators=100, random_state=1,verbose=0, min_samples_leaf=20)\n",
    "clf5 = DecisionTreeClassifier(random_state=0)\n",
    "eclf = VotingClassifier(\n",
    "     estimators=[('lr', clf1), ('rf', clf2), ('gnb', clf3), ('rf2', clf4), ('dt', clf5)],\n",
    "     voting='soft')\n",
    "\n",
    "for clf, label in zip([clf1, clf2, clf3, clf4, clf5, eclf], ['Logistic Regression', 'Random Forest', 'naive Bayes', 'Random Forest 2', 'Decision Tree', 'Ensemble soft']):\n",
    "     scores = cross_val_score(clf, X, y, scoring='accuracy', cv=3, n_jobs=-1)\n",
    "     print(\"Accuracy: %0.5f (+/- %0.5f) [%s]\" % (scores.mean(), scores.std(), label))"
   ]
  },
  {
   "cell_type": "markdown",
   "metadata": {
    "id": "1oYTegFKbtlA"
   },
   "source": [
    "**b)** A voting classifier can use different rules for the voting. Describe the two options (i.e. hard and soft voting) and see whether it matters in your estimation."
   ]
  },
  {
   "cell_type": "markdown",
   "metadata": {
    "id": "dAZ83vCZbtlA"
   },
   "source": [
    "<div style=\"color:blue; border-bottom: 7px solid rgba(0,0,255,.3); line-height:36pt; font-size:165.7%; font-weight:bold; padding-left:.3em;\">Answer</div>"
   ]
  },
  {
   "cell_type": "markdown",
   "metadata": {},
   "source": [
    "Soft voting, or weighted average probabilities, is returning the class label as argmax of the sum of predicted probabilties.  Here the final class labels are calculated from the class label with the highest average probability. You provide the initial weights manually, the program will then collect the predicted class probabilities for each classifier and multiply them by the inserted weights and average them to get the average probability scores. \n",
    "\n",
    "Hard voting, or majority voting, is a rule that predicts the class labels for a particular sample by using the mode of the class labels predicted by each classifier."
   ]
  },
  {
   "cell_type": "code",
   "execution_count": 34,
   "metadata": {
    "id": "QhpsecdxbtlB"
   },
   "outputs": [
    {
     "name": "stdout",
     "output_type": "stream",
     "text": [
      "Accuracy: 0.91927 (+/- 0.00000) [Logistic Regression]\n",
      "Accuracy: 0.91927 (+/- 0.00001) [Random Forest]\n",
      "Accuracy: 0.91927 (+/- 0.00000) [naive Bayes]\n",
      "Accuracy: 0.91927 (+/- 0.00000) [Random Forest 2]\n",
      "Accuracy: 0.84954 (+/- 0.00135) [Decision Tree]\n",
      "Accuracy: 0.91927 (+/- 0.00000) [Ensemble hard]\n"
     ]
    }
   ],
   "source": [
    "eclf2 = VotingClassifier(\n",
    "     estimators=[('lr', clf1), ('rf', clf2), ('gnb', clf3), ('rf2', clf4), ('dt', clf5)],\n",
    "     voting='hard')\n",
    "\n",
    "for clf, label in zip([clf1, clf2, clf3, clf4, clf5, eclf2], ['Logistic Regression', 'Random Forest', 'naive Bayes', 'Random Forest 2', 'Decision Tree', 'Ensemble hard']):\n",
    "     scores = cross_val_score(clf, X, y, scoring='accuracy', cv=3, n_jobs=-1)\n",
    "     print(\"Accuracy: %0.5f (+/- %0.5f) [%s]\" % (scores.mean(), scores.std(), label))"
   ]
  },
  {
   "cell_type": "markdown",
   "metadata": {},
   "source": [
    "It apparently does not matter if we use a soft or hard rule for this dataset. Because I get the same Accuracy (0.92) values for a soft and hard voting rules. "
   ]
  },
  {
   "cell_type": "markdown",
   "metadata": {
    "id": "lgBGP2s5W5gl"
   },
   "source": [
    "**c)**\n",
    "Why does an voting classifier model generally perform better than each of the individual model separately? "
   ]
  },
  {
   "cell_type": "markdown",
   "metadata": {
    "id": "_NB_WfjMW5gm"
   },
   "source": [
    "<div style=\"color:blue; border-bottom: 7px solid rgba(0,0,255,.3); line-height:36pt; font-size:165.7%; font-weight:bold; padding-left:.3em;\">Answer</div>"
   ]
  },
  {
   "cell_type": "markdown",
   "metadata": {
    "id": "TnBPQl-dW5gm"
   },
   "source": [
    "A voting classifier model generally performs better due to it taking all the parts of other models that have high prediction accuracy and leaves out the parts where the prediction is bad. The intuition behind why it works better is that the errors are assumed to be independent and then using a combination will reduce the variance. Here we also assume that all n base classifiers are having the same error rate. Essentially, these erros get multiplied against each other and then summed up by using a probability mass function of a binomial distribution. "
   ]
  },
  {
   "cell_type": "markdown",
   "metadata": {
    "id": "GhvJUYC6W5gn"
   },
   "source": [
    "**d)**\n",
    "Plot a ROC curve for estimated ensemble model in question **2a**. Explain how the curve is constructed and give an interpretation of the figure."
   ]
  },
  {
   "cell_type": "markdown",
   "metadata": {
    "id": "n_dzUy5yLgyx"
   },
   "source": [
    "<div style=\"color:blue; border-bottom: 7px solid rgba(0,0,255,.3); line-height:36pt; font-size:165.7%; font-weight:bold; padding-left:.3em;\">Answer</div>"
   ]
  },
  {
   "cell_type": "code",
   "execution_count": 35,
   "metadata": {},
   "outputs": [],
   "source": [
    "from sklearn.metrics import RocCurveDisplay"
   ]
  },
  {
   "cell_type": "code",
   "execution_count": 36,
   "metadata": {
    "id": "Yx58IBZALgyy"
   },
   "outputs": [
    {
     "data": {
      "text/plain": [
       "<sklearn.metrics._plot.roc_curve.RocCurveDisplay at 0x16e8563bb50>"
      ]
     },
     "execution_count": 36,
     "metadata": {},
     "output_type": "execute_result"
    },
    {
     "data": {
      "image/png": "[encoded data removed]",
      "text/plain": [
       "<Figure size 432x288 with 1 Axes>"
      ]
     },
     "metadata": {
      "needs_background": "light"
     },
     "output_type": "display_data"
    }
   ],
   "source": [
    "RocCurveDisplay.from_estimator(\n",
    "   eclf.fit(X,y),X,y)"
   ]
  },
  {
   "cell_type": "markdown",
   "metadata": {},
   "source": [
    "We see that the ensemble model from 2a works perfect in predicting defaults. The AUROC =1, where 1 would be perfect predictor. \n"
   ]
  },
  {
   "cell_type": "markdown",
   "metadata": {
    "id": "dmLmwa4tLgyy"
   },
   "source": [
    "# Question 3 [20P]\n",
    " A classifier that makes a binary class prediction $\\hat y \\in [0,1]$ given a sensitive binary attribute $g \\in [0,1]$ satisfies the p\\%-rule if the following inequality holds:\n",
    "\n",
    "  $min  \\Big( \n",
    "          \\frac{P(\\hat y = 1 | g =1)}{P(\\hat y = 1 | g =0)}, \n",
    "          \\frac{P(\\hat y = 1 | g =0)}{P(\\hat y = 1 | g =1)} \n",
    "        \\Big) \n",
    "        \\le \n",
    "          \\frac{p}{100}$\n",
    "  \n",
    "\n",
    "\n",
    "* The rule states that the ratio between the probability of a positive outcome given the sensitive attribute being true and the same probability given the sensitive attribute being false is no less than p:100\n",
    "* So, when a classifier is completely fair it will satisfy a 100\\%-rule. In contrast, when it is completely unfair it satisfies a 0\\%-rule.\n",
    "\n",
    "\n",
    "\n",
    "**a)** \n",
    "Calculate the fairness as defined here."
   ]
  },
  {
   "cell_type": "markdown",
   "metadata": {
    "id": "6AROWHn8Lgyz"
   },
   "source": [
    "<div style=\"color:blue; border-bottom: 7px solid rgba(0,0,255,.3); line-height:36pt; font-size:165.7%; font-weight:bold; padding-left:.3em;\">Answer</div>"
   ]
  },
  {
   "cell_type": "code",
   "execution_count": 37,
   "metadata": {
    "id": "LIHEOxd8Lgyz"
   },
   "outputs": [],
   "source": [
    "from sklego.metrics import p_percent_score"
   ]
  },
  {
   "cell_type": "code",
   "execution_count": 38,
   "metadata": {},
   "outputs": [
    {
     "name": "stdout",
     "output_type": "stream",
     "text": [
      "p_percent_score: 0.21973376130221212\n"
     ]
    }
   ],
   "source": [
    "eclf.fit(sr_features_std,y)\n",
    "print('p_percent_score:', p_percent_score(sensitive_column=\"gender_M\")(eclf, sr_features_std))"
   ]
  },
  {
   "cell_type": "markdown",
   "metadata": {
    "id": "Dwizx3FIW5gr"
   },
   "source": [
    "**b)**\n",
    "Explain your results. How fair is your model? "
   ]
  },
  {
   "cell_type": "markdown",
   "metadata": {
    "id": "LrRmowPUW5gr"
   },
   "source": [
    "<div style=\"color:blue; border-bottom: 7px solid rgba(0,0,255,.3); line-height:36pt; font-size:165.7%; font-weight:bold; padding-left:.3em;\">Answer</div>"
   ]
  },
  {
   "cell_type": "markdown",
   "metadata": {
    "id": "yfzS7XWmW5gs"
   },
   "source": [
    "The model seems to be very unfair since the value (21.9%) is much closer to 0% (completely unfair) then to 100% (perfectly fair). If the score would be 100% it means that memberships out a certain class have no correlation with the default decision.  However, the category variable gender_M, where 1 is being male, seems to be leading to unfair predictions about default. "
   ]
  },
  {
   "cell_type": "markdown",
   "metadata": {
    "id": "U1LRzcV6Lgyz"
   },
   "source": [
    "# Question 4 [20P]\n",
    "\n",
    "In this questions you will use a Neural Network (NN) using the neural network classifier in scikit-learn.\n",
    "\n",
    "The code below defines a neural network with 2 hidden layers with 10 and 12 neurons respectively. For more information see: https://scikit-learn.org/stable/modules/generated/sklearn.neural_network.MLPClassifier.html\n",
    "\n",
    "```python\n",
    "from sklearn.neural_network import MLPClassifier\n",
    "\n",
    "# The fitting the neural network\n",
    "MLPClassifier(..., hidden_layer_sizes=(10,12)).fit(..., ...)\n",
    "\n",
    "```\n",
    "\n",
    "**a)**\n",
    "Make predictions using a neural network.\n",
    "Hint: Use the advice on training a NN given by Guest lecturer Ronald Heijmans or the slides of Lecture 8 (either are fine) to come to reasonable model parameter choices. Explain these choices."
   ]
  },
  {
   "cell_type": "markdown",
   "metadata": {
    "id": "Y-TeRCgbLgy0"
   },
   "source": [
    "<div style=\"color:blue; border-bottom: 7px solid rgba(0,0,255,.3); line-height:36pt; font-size:165.7%; font-weight:bold; padding-left:.3em;\">Answer</div>"
   ]
  },
  {
   "cell_type": "code",
   "execution_count": 50,
   "metadata": {},
   "outputs": [
    {
     "data": {
      "text/plain": [
       "array([[0.],\n",
       "       [0.],\n",
       "       [0.],\n",
       "       ...,\n",
       "       [1.],\n",
       "       [0.],\n",
       "       [0.]])"
      ]
     },
     "execution_count": 50,
     "metadata": {},
     "output_type": "execute_result"
    }
   ],
   "source": [
    "sr_target_std"
   ]
  },
  {
   "cell_type": "code",
   "execution_count": null,
   "metadata": {},
   "outputs": [],
   "source": [
    "x_train, x_test, y_train, y_test = train_test_split(X, sr_target_std.ravel(), test_size=0.2, random_state=0)\n",
    "nn=MLPClassifier(activation='logistic',solver='sgd', learning_rate_init=0.001,hidden_layer_sizes=(99),random_state=1).fit(x_train,y_train)"
   ]
  },
  {
   "cell_type": "code",
   "execution_count": null,
   "metadata": {},
   "outputs": [
    {
     "name": "stdout",
     "output_type": "stream",
     "text": [
      "The Accuracy of the MLPClassifier:\n",
      "0.9196136773815912\n"
     ]
    }
   ],
   "source": [
    "print('The Accuracy of the MLPClassifier:')\n",
    "print(nn.score(x_test, y_test))"
   ]
  },
  {
   "cell_type": "markdown",
   "metadata": {
    "id": "4vcxgIibW5g1"
   },
   "source": [
    "**b)**\n",
    "Are these predictions better than the predicitons with the ensemble model in the previous question? Explain."
   ]
  },
  {
   "cell_type": "markdown",
   "metadata": {
    "id": "qJCywhkoW5g2"
   },
   "source": [
    "<div style=\"color:blue; border-bottom: 7px solid rgba(0,0,255,.3); line-height:36pt; font-size:165.7%; font-weight:bold; padding-left:.3em;\">Answer</div>"
   ]
  },
  {
   "cell_type": "markdown",
   "metadata": {
    "id": "tklHtxpBW5g3"
   },
   "source": [
    "The predictions seem to be the same for the MLPClassifier model. The accuracy score in the VotingClassifier model with soft and hard voting rules was 0.92. In this MLPClassifier it is again 0,92. However, this score is achieved after trying multiple parameter combinations that gave lower scores. So it took a little more effort in finding correct values. One last thing to do is a gridsearch in order to find possible better parameter values. This did not result in improvement for me."
   ]
  },
  {
   "cell_type": "markdown",
   "metadata": {
    "id": "6oeLyvHEf05J"
   },
   "source": [
    "<div style=\"font-size:250%; line-height:120%; padding: 50px 0 20px 0; border-bottom: 4px solid black;\">Part II: A critical view on machine learning</div>"
   ]
  },
  {
   "cell_type": "markdown",
   "metadata": {
    "id": "TJOYSXjALgy1"
   },
   "source": [
    "# Question 5 [8P]\n",
    "Is it possible to speed up training of a `bagging` ensemble by distributing it across multiple servers? What about `boosting` ensembles?\n",
    "\n",
    "<span style='color:crimson; font-weight: bold'>Word limit = 100 words. </span>\n"
   ]
  },
  {
   "cell_type": "markdown",
   "metadata": {
    "id": "f6NYId8pLgy1"
   },
   "source": [
    "<div style=\"color:blue; border-bottom: 7px solid rgba(0,0,255,.3); line-height:36pt; font-size:165.7%; font-weight:bold; padding-left:.3em;\">Answer</div>"
   ]
  },
  {
   "cell_type": "markdown",
   "metadata": {
    "id": "Bbgre7mXLgy1"
   },
   "source": [
    "Yes, it is possible to speed up training of a bagging ensemble by distributing it across multiple servers. This is possible because every predictor used in the ensemble is independent. However, it is not possible for a boosting ensemble because in a boosting ensemble the predictors are based on the previous predictors. If multiple servers were to be used, they would not have the ability to sequentially train and improve anymore. "
   ]
  },
  {
   "cell_type": "markdown",
   "metadata": {
    "id": "0JGIJ013Lgy1"
   },
   "source": [
    "# Question 6 [8P]\n",
    "Why would you want to use:\n",
    "\n",
    "a.  Ridge regression instead of plain Linear Regression\n",
    "\n",
    "b.  Lasso instead of Ridge Regression\n",
    "\n",
    "<span style='color:crimson; font-weight: bold'>Word limit = 200 words. </span>\n"
   ]
  },
  {
   "cell_type": "markdown",
   "metadata": {
    "id": "YB1EqKbqLgy2"
   },
   "source": [
    "<div style=\"color:blue; border-bottom: 7px solid rgba(0,0,255,.3); line-height:36pt; font-size:165.7%; font-weight:bold; padding-left:.3em;\">Answer</div>"
   ]
  },
  {
   "cell_type": "markdown",
   "metadata": {
    "id": "7g7LFG0Lf05K"
   },
   "source": [
    "##### a.\n",
    "\n",
    "In general, a model that applies regularization has a higher performance than a model that does not do this. Therefore, the reason to use a Ridge Regression, is to improve the performance of the model compared to running a plain Linear Regression. \n",
    "\n",
    "##### b.\n",
    "\n",
    "You use Lasso Regression when you also want to let the program do  feature selection for you. Lasso Regression utilized a l1 penalty, which creates a sparse model by pushing many of the features their weights down to zero or almost zero. So if you suspect that many of the initial features of the dataset are not necessary, it can save a lot of time, because you do not have to remove the features manually. "
   ]
  },
  {
   "cell_type": "markdown",
   "metadata": {
    "id": "MXA_otFRMGMA"
   },
   "source": [
    "# Question 7 [8P]\n",
    "Once a dataset's dimensionality has been reduced, what methods are available to perfectly reverse the operation? Explain.\n",
    "\n",
    "<span style='color:crimson; font-weight: bold'>Word limit = 200 words. </span>"
   ]
  },
  {
   "cell_type": "markdown",
   "metadata": {
    "id": "-zJpWp2Ef05L"
   },
   "source": [
    "<div style=\"color:blue; border-bottom: 7px solid rgba(0,0,255,.3); line-height:36pt; font-size:165.7%; font-weight:bold; padding-left:.3em;\">Answer</div>"
   ]
  },
  {
   "cell_type": "markdown",
   "metadata": {
    "id": "5lqu6eGYf05L"
   },
   "source": [
    "Once a dataset's dimensionality has been reduced, there is generally not much possible in order to perfectly reverse the operation. This is because with dimensionality reduction information gets lost. It also depends on the type of algorithm. some (e.g. PCA) algorithms have good reverse transformation procedures. However, for other algorithms (e.g. T-SNE) it is not possible because there is no existing reverse process. \n",
    "\n",
    "What is always possible is to just open the old datasets used before using dimensionality reduction again. So make sure everytime you use a different technique, you save the DataFrame under a different name, this essentially creates backups that you can reuse. This won't be a reversing operation, but you would get the same dataset as before. "
   ]
  }
 ],
 "metadata": {
  "colab": {
   "name": "TakeHomeExam_2021_VUNETID_NAME.ipynb",
   "provenance": []
  },
  "hide_input": false,
  "interpreter": {
   "hash": "5e9be3726a3e1eb0488b4d4f640ef9d4f9840d98d40cbcadb810c3cb4446c190"
  },
  "kernelspec": {
   "display_name": "Python 3.9.13 64-bit (windows store)",
   "language": "python",
   "name": "python3"
  },
  "language_info": {
   "codemirror_mode": {
    "name": "ipython",
    "version": 3
   },
   "file_extension": ".py",
   "mimetype": "text/x-python",
   "name": "python",
   "nbconvert_exporter": "python",
   "pygments_lexer": "ipython3",
   "version": "3.9.13"
  },
  "latex_envs": {
   "LaTeX_envs_menu_present": true,
   "autoclose": false,
   "autocomplete": true,
   "bibliofile": "biblio.bib",
   "cite_by": "apalike",
   "current_citInitial": 1,
   "eqLabelWithNumbers": true,
   "eqNumInitial": 1,
   "hotkeys": {
    "equation": "Ctrl-E",
    "itemize": "Ctrl-I"
   },
   "labels_anchors": false,
   "latex_user_defs": false,
   "report_style_numbering": false,
   "user_envs_cfg": false
  },
  "toc": {
   "base_numbering": 1,
   "nav_menu": {},
   "number_sections": false,
   "sideBar": true,
   "skip_h1_title": false,
   "title_cell": "Table of Contents",
   "title_sidebar": "Contents",
   "toc_cell": false,
   "toc_position": {},
   "toc_section_display": true,
   "toc_window_display": false
  },
  "varInspector": {
   "cols": {
    "lenName": 16,
    "lenType": 16,
    "lenVar": 40
   },
   "kernels_config": {
    "python": {
     "delete_cmd_postfix": "",
     "delete_cmd_prefix": "del ",
     "library": "var_list.py",
     "varRefreshCmd": "print(var_dic_list())"
    },
    "r": {
     "delete_cmd_postfix": ") ",
     "delete_cmd_prefix": "rm(",
     "library": "var_list.r",
     "varRefreshCmd": "cat(var_dic_list()) "
    }
   },
   "types_to_exclude": [
    "module",
    "function",
    "builtin_function_or_method",
    "instance",
    "_Feature"
   ],
   "window_display": false
  }
 },
 "nbformat": 4,
 "nbformat_minor": 1
}
